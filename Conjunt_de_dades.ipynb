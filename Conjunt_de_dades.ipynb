{
 "cells": [
  {
   "cell_type": "markdown",
   "id": "05f66022",
   "metadata": {},
   "source": [
    "### Divisió del conjunt de dades"
   ]
  },
  {
   "cell_type": "code",
   "execution_count": 2,
   "id": "b210f6d4",
   "metadata": {},
   "outputs": [],
   "source": [
    "import arff\n",
    "import pandas as pd\n",
    "def load_kdd_dataset(data_path):\n",
    "    \"\"\"Lectura del conjunto de datos NSL-KDD.\"\"\"\n",
    "    with open(data_path, 'r') as train_set:\n",
    "        dataset = arff.load(train_set)\n",
    "    attributes = [attr[0] for attr in dataset[\"attributes\"]]\n",
    "    return pd.DataFrame(dataset[\"data\"], columns=attributes)"
   ]
  },
  {
   "cell_type": "code",
   "execution_count": 3,
   "id": "27a303a7",
   "metadata": {},
   "outputs": [],
   "source": [
    "df = load_kdd_dataset(\"datasets/NSL-KDD/KDDTrain+.arff\")\n"
   ]
  },
  {
   "cell_type": "code",
   "execution_count": 4,
   "id": "37291cbd",
   "metadata": {},
   "outputs": [
    {
     "name": "stdout",
     "output_type": "stream",
     "text": [
      "<class 'pandas.core.frame.DataFrame'>\n",
      "RangeIndex: 125973 entries, 0 to 125972\n",
      "Data columns (total 42 columns):\n",
      " #   Column                       Non-Null Count   Dtype  \n",
      "---  ------                       --------------   -----  \n",
      " 0   duration                     125973 non-null  float64\n",
      " 1   protocol_type                125973 non-null  object \n",
      " 2   service                      125973 non-null  object \n",
      " 3   flag                         125973 non-null  object \n",
      " 4   src_bytes                    125973 non-null  float64\n",
      " 5   dst_bytes                    125973 non-null  float64\n",
      " 6   land                         125973 non-null  object \n",
      " 7   wrong_fragment               125973 non-null  float64\n",
      " 8   urgent                       125973 non-null  float64\n",
      " 9   hot                          125973 non-null  float64\n",
      " 10  num_failed_logins            125973 non-null  float64\n",
      " 11  logged_in                    125973 non-null  object \n",
      " 12  num_compromised              125973 non-null  float64\n",
      " 13  root_shell                   125973 non-null  float64\n",
      " 14  su_attempted                 125973 non-null  float64\n",
      " 15  num_root                     125973 non-null  float64\n",
      " 16  num_file_creations           125973 non-null  float64\n",
      " 17  num_shells                   125973 non-null  float64\n",
      " 18  num_access_files             125973 non-null  float64\n",
      " 19  num_outbound_cmds            125973 non-null  float64\n",
      " 20  is_host_login                125973 non-null  object \n",
      " 21  is_guest_login               125973 non-null  object \n",
      " 22  count                        125973 non-null  float64\n",
      " 23  srv_count                    125973 non-null  float64\n",
      " 24  serror_rate                  125973 non-null  float64\n",
      " 25  srv_serror_rate              125973 non-null  float64\n",
      " 26  rerror_rate                  125973 non-null  float64\n",
      " 27  srv_rerror_rate              125973 non-null  float64\n",
      " 28  same_srv_rate                125973 non-null  float64\n",
      " 29  diff_srv_rate                125973 non-null  float64\n",
      " 30  srv_diff_host_rate           125973 non-null  float64\n",
      " 31  dst_host_count               125973 non-null  float64\n",
      " 32  dst_host_srv_count           125973 non-null  float64\n",
      " 33  dst_host_same_srv_rate       125973 non-null  float64\n",
      " 34  dst_host_diff_srv_rate       125973 non-null  float64\n",
      " 35  dst_host_same_src_port_rate  125973 non-null  float64\n",
      " 36  dst_host_srv_diff_host_rate  125973 non-null  float64\n",
      " 37  dst_host_serror_rate         125973 non-null  float64\n",
      " 38  dst_host_srv_serror_rate     125973 non-null  float64\n",
      " 39  dst_host_rerror_rate         125973 non-null  float64\n",
      " 40  dst_host_srv_rerror_rate     125973 non-null  float64\n",
      " 41  class                        125973 non-null  object \n",
      "dtypes: float64(34), object(8)\n",
      "memory usage: 40.4+ MB\n"
     ]
    }
   ],
   "source": [
    "df.info()\n"
   ]
  },
  {
   "cell_type": "markdown",
   "id": "eccec6c2",
   "metadata": {},
   "source": [
    "### Divisió del conjunt de dades"
   ]
  },
  {
   "cell_type": "code",
   "execution_count": 5,
   "id": "4c67d495",
   "metadata": {},
   "outputs": [],
   "source": [
    "# separem 60% per train, 40% per test\n",
    "from sklearn.model_selection import train_test_split\n",
    "\n",
    "train_set, test_set = train_test_split(df,test_size=0.4,random_state=42)"
   ]
  },
  {
   "cell_type": "code",
   "execution_count": 6,
   "id": "1f1ab9e6",
   "metadata": {},
   "outputs": [
    {
     "name": "stdout",
     "output_type": "stream",
     "text": [
      "<class 'pandas.core.frame.DataFrame'>\n",
      "Index: 75583 entries, 98320 to 121958\n",
      "Data columns (total 42 columns):\n",
      " #   Column                       Non-Null Count  Dtype  \n",
      "---  ------                       --------------  -----  \n",
      " 0   duration                     75583 non-null  float64\n",
      " 1   protocol_type                75583 non-null  object \n",
      " 2   service                      75583 non-null  object \n",
      " 3   flag                         75583 non-null  object \n",
      " 4   src_bytes                    75583 non-null  float64\n",
      " 5   dst_bytes                    75583 non-null  float64\n",
      " 6   land                         75583 non-null  object \n",
      " 7   wrong_fragment               75583 non-null  float64\n",
      " 8   urgent                       75583 non-null  float64\n",
      " 9   hot                          75583 non-null  float64\n",
      " 10  num_failed_logins            75583 non-null  float64\n",
      " 11  logged_in                    75583 non-null  object \n",
      " 12  num_compromised              75583 non-null  float64\n",
      " 13  root_shell                   75583 non-null  float64\n",
      " 14  su_attempted                 75583 non-null  float64\n",
      " 15  num_root                     75583 non-null  float64\n",
      " 16  num_file_creations           75583 non-null  float64\n",
      " 17  num_shells                   75583 non-null  float64\n",
      " 18  num_access_files             75583 non-null  float64\n",
      " 19  num_outbound_cmds            75583 non-null  float64\n",
      " 20  is_host_login                75583 non-null  object \n",
      " 21  is_guest_login               75583 non-null  object \n",
      " 22  count                        75583 non-null  float64\n",
      " 23  srv_count                    75583 non-null  float64\n",
      " 24  serror_rate                  75583 non-null  float64\n",
      " 25  srv_serror_rate              75583 non-null  float64\n",
      " 26  rerror_rate                  75583 non-null  float64\n",
      " 27  srv_rerror_rate              75583 non-null  float64\n",
      " 28  same_srv_rate                75583 non-null  float64\n",
      " 29  diff_srv_rate                75583 non-null  float64\n",
      " 30  srv_diff_host_rate           75583 non-null  float64\n",
      " 31  dst_host_count               75583 non-null  float64\n",
      " 32  dst_host_srv_count           75583 non-null  float64\n",
      " 33  dst_host_same_srv_rate       75583 non-null  float64\n",
      " 34  dst_host_diff_srv_rate       75583 non-null  float64\n",
      " 35  dst_host_same_src_port_rate  75583 non-null  float64\n",
      " 36  dst_host_srv_diff_host_rate  75583 non-null  float64\n",
      " 37  dst_host_serror_rate         75583 non-null  float64\n",
      " 38  dst_host_srv_serror_rate     75583 non-null  float64\n",
      " 39  dst_host_rerror_rate         75583 non-null  float64\n",
      " 40  dst_host_srv_rerror_rate     75583 non-null  float64\n",
      " 41  class                        75583 non-null  object \n",
      "dtypes: float64(34), object(8)\n",
      "memory usage: 24.8+ MB\n"
     ]
    }
   ],
   "source": [
    "train_set.info()"
   ]
  },
  {
   "cell_type": "code",
   "execution_count": 7,
   "id": "2b508058",
   "metadata": {},
   "outputs": [
    {
     "name": "stdout",
     "output_type": "stream",
     "text": [
      "<class 'pandas.core.frame.DataFrame'>\n",
      "Index: 50390 entries, 378 to 89600\n",
      "Data columns (total 42 columns):\n",
      " #   Column                       Non-Null Count  Dtype  \n",
      "---  ------                       --------------  -----  \n",
      " 0   duration                     50390 non-null  float64\n",
      " 1   protocol_type                50390 non-null  object \n",
      " 2   service                      50390 non-null  object \n",
      " 3   flag                         50390 non-null  object \n",
      " 4   src_bytes                    50390 non-null  float64\n",
      " 5   dst_bytes                    50390 non-null  float64\n",
      " 6   land                         50390 non-null  object \n",
      " 7   wrong_fragment               50390 non-null  float64\n",
      " 8   urgent                       50390 non-null  float64\n",
      " 9   hot                          50390 non-null  float64\n",
      " 10  num_failed_logins            50390 non-null  float64\n",
      " 11  logged_in                    50390 non-null  object \n",
      " 12  num_compromised              50390 non-null  float64\n",
      " 13  root_shell                   50390 non-null  float64\n",
      " 14  su_attempted                 50390 non-null  float64\n",
      " 15  num_root                     50390 non-null  float64\n",
      " 16  num_file_creations           50390 non-null  float64\n",
      " 17  num_shells                   50390 non-null  float64\n",
      " 18  num_access_files             50390 non-null  float64\n",
      " 19  num_outbound_cmds            50390 non-null  float64\n",
      " 20  is_host_login                50390 non-null  object \n",
      " 21  is_guest_login               50390 non-null  object \n",
      " 22  count                        50390 non-null  float64\n",
      " 23  srv_count                    50390 non-null  float64\n",
      " 24  serror_rate                  50390 non-null  float64\n",
      " 25  srv_serror_rate              50390 non-null  float64\n",
      " 26  rerror_rate                  50390 non-null  float64\n",
      " 27  srv_rerror_rate              50390 non-null  float64\n",
      " 28  same_srv_rate                50390 non-null  float64\n",
      " 29  diff_srv_rate                50390 non-null  float64\n",
      " 30  srv_diff_host_rate           50390 non-null  float64\n",
      " 31  dst_host_count               50390 non-null  float64\n",
      " 32  dst_host_srv_count           50390 non-null  float64\n",
      " 33  dst_host_same_srv_rate       50390 non-null  float64\n",
      " 34  dst_host_diff_srv_rate       50390 non-null  float64\n",
      " 35  dst_host_same_src_port_rate  50390 non-null  float64\n",
      " 36  dst_host_srv_diff_host_rate  50390 non-null  float64\n",
      " 37  dst_host_serror_rate         50390 non-null  float64\n",
      " 38  dst_host_srv_serror_rate     50390 non-null  float64\n",
      " 39  dst_host_rerror_rate         50390 non-null  float64\n",
      " 40  dst_host_srv_rerror_rate     50390 non-null  float64\n",
      " 41  class                        50390 non-null  object \n",
      "dtypes: float64(34), object(8)\n",
      "memory usage: 16.5+ MB\n"
     ]
    }
   ],
   "source": [
    "test_set.info()"
   ]
  },
  {
   "cell_type": "code",
   "execution_count": 8,
   "id": "36e7f09e",
   "metadata": {},
   "outputs": [],
   "source": [
    "# separem validation set 50% i test set 50%\n",
    "val_set, test_set = train_test_split(test_set,test_size=0.5,random_state=42)"
   ]
  },
  {
   "cell_type": "code",
   "execution_count": 9,
   "id": "cee89e3a",
   "metadata": {},
   "outputs": [
    {
     "name": "stdout",
     "output_type": "stream",
     "text": [
      "Longitud del Training Set: 75583\n",
      "Longitud del Validation Set: 25195\n",
      "Longitud del Test Set: 25195\n"
     ]
    }
   ],
   "source": [
    "print(\"Longitud del Training Set:\", len(train_set))\n",
    "print(\"Longitud del Validation Set:\", len(val_set))\n",
    "print(\"Longitud del Test Set:\", len(test_set))"
   ]
  },
  {
   "cell_type": "code",
   "execution_count": 10,
   "id": "73b69b73",
   "metadata": {},
   "outputs": [],
   "source": [
    "# Si shuffle=False, el conjunto de datos no mezclará antes del particionado\n",
    "train_set, test_set = train_test_split(df, test_size=0.4, random_state=42, shuffle=False)"
   ]
  },
  {
   "cell_type": "code",
   "execution_count": 11,
   "id": "a2ee7c05",
   "metadata": {},
   "outputs": [],
   "source": [
    "# mantenim la proporció de la característica de stratify\n",
    "train_set, test_set = train_test_split(df, test_size=0.4, random_state=42, stratify=df[\"protocol_type\"])\n"
   ]
  },
  {
   "cell_type": "markdown",
   "id": "98c560b6",
   "metadata": {},
   "source": [
    "### Generació d'una funció de particionat\n"
   ]
  },
  {
   "cell_type": "code",
   "execution_count": 12,
   "id": "2fde759d",
   "metadata": {},
   "outputs": [],
   "source": [
    "# Construcción de una función que realice el particionado completo\n",
    "def train_val_test_split(df, rstate=42, shuffle=True, stratify=None):\n",
    "    strat = df[stratify] if stratify else None\n",
    "    train_set, test_set = train_test_split(\n",
    "        df, test_size=0.4, random_state=rstate, shuffle=shuffle, stratify=strat)\n",
    "    strat = test_set[stratify] if stratify else None\n",
    "    val_set, test_set = train_test_split(\n",
    "        test_set, test_size=0.5, random_state=rstate, shuffle=shuffle, stratify=strat)\n",
    "    return (train_set, val_set, test_set)"
   ]
  },
  {
   "cell_type": "code",
   "execution_count": 13,
   "id": "aaf3f392",
   "metadata": {},
   "outputs": [
    {
     "name": "stdout",
     "output_type": "stream",
     "text": [
      "Longitud del conjunto de datos: 125973\n"
     ]
    }
   ],
   "source": [
    "print(\"Longitud del conjunto de datos:\", len(df))\n"
   ]
  },
  {
   "cell_type": "code",
   "execution_count": 14,
   "id": "10a360b6",
   "metadata": {},
   "outputs": [],
   "source": [
    "train_set, val_set, test_set = train_val_test_split(df, stratify='protocol_type')\n"
   ]
  },
  {
   "cell_type": "code",
   "execution_count": 15,
   "id": "64936e41",
   "metadata": {},
   "outputs": [
    {
     "name": "stdout",
     "output_type": "stream",
     "text": [
      "Longitud del Training Set: 75583\n",
      "Longitud del Validation Set: 25195\n",
      "Longitud del Test Set: 25195\n"
     ]
    }
   ],
   "source": [
    "print(\"Longitud del Training Set:\", len(train_set))\n",
    "print(\"Longitud del Validation Set:\", len(val_set))\n",
    "print(\"Longitud del Test Set:\", len(test_set))"
   ]
  },
  {
   "cell_type": "code",
   "execution_count": 16,
   "id": "9f0a65e0",
   "metadata": {},
   "outputs": [
    {
     "data": {
      "text/plain": [
       "<Axes: >"
      ]
     },
     "execution_count": 16,
     "metadata": {},
     "output_type": "execute_result"
    },
    {
     "data": {
      "image/png": "[encoded data removed]",
      "text/plain": [
       "<Figure size 640x480 with 1 Axes>"
      ]
     },
     "metadata": {},
     "output_type": "display_data"
    }
   ],
   "source": [
    "# Comprobación de que stratify mantiene la proporcion de la característica en los conjuntos\n",
    "%matplotlib inline\n",
    "import matplotlib.pyplot as plt\n",
    "df[\"protocol_type\"].hist()"
   ]
  },
  {
   "cell_type": "code",
   "execution_count": 17,
   "id": "7793b99f",
   "metadata": {},
   "outputs": [
    {
     "data": {
      "text/plain": [
       "<Axes: >"
      ]
     },
     "execution_count": 17,
     "metadata": {},
     "output_type": "execute_result"
    },
    {
     "data": {
      "image/png": "[encoded data removed]",
      "text/plain": [
       "<Figure size 640x480 with 1 Axes>"
      ]
     },
     "metadata": {},
     "output_type": "display_data"
    }
   ],
   "source": [
    "train_set[\"protocol_type\"].hist()\n"
   ]
  },
  {
   "cell_type": "code",
   "execution_count": 18,
   "id": "8fa7b198",
   "metadata": {},
   "outputs": [
    {
     "data": {
      "text/plain": [
       "<Axes: >"
      ]
     },
     "execution_count": 18,
     "metadata": {},
     "output_type": "execute_result"
    },
    {
     "data": {
      "image/png": "[encoded data removed]",
      "text/plain": [
       "<Figure size 640x480 with 1 Axes>"
      ]
     },
     "metadata": {},
     "output_type": "display_data"
    }
   ],
   "source": [
    "val_set[\"protocol_type\"].hist()\n"
   ]
  },
  {
   "cell_type": "code",
   "execution_count": 19,
   "id": "5333b33b",
   "metadata": {},
   "outputs": [
    {
     "data": {
      "text/plain": [
       "<Axes: >"
      ]
     },
     "execution_count": 19,
     "metadata": {},
     "output_type": "execute_result"
    },
    {
     "data": {
      "image/png": "[encoded data removed]",
      "text/plain": [
       "<Figure size 640x480 with 1 Axes>"
      ]
     },
     "metadata": {},
     "output_type": "display_data"
    }
   ],
   "source": [
    "test_set[\"protocol_type\"].hist()\n"
   ]
  },
  {
   "cell_type": "markdown",
   "id": "d567c730",
   "metadata": {},
   "source": [
    "Confirmem que es mantenen les proporcions en cada set de dades"
   ]
  },
  {
   "cell_type": "code",
   "execution_count": null,
   "id": "87823872",
   "metadata": {},
   "outputs": [],
   "source": []
  }
 ],
 "metadata": {
  "kernelspec": {
   "display_name": "Python 3 (ipykernel)",
   "language": "python",
   "name": "python3"
  },
  "language_info": {
   "codemirror_mode": {
    "name": "ipython",
    "version": 3
   },
   "file_extension": ".py",
   "mimetype": "text/x-python",
   "name": "python",
   "nbconvert_exporter": "python",
   "pygments_lexer": "ipython3",
   "version": "3.11.5"
  }
 },
 "nbformat": 4,
 "nbformat_minor": 5
}
