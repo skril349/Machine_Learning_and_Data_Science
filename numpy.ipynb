{
 "cells": [
  {
   "cell_type": "markdown",
   "id": "41431df4-e8a7-4f70-87a1-15aeb60ae5d8",
   "metadata": {},
   "source": [
    "### NUMPY\n",
    "\n",
    "S'utilitza per a la computació estadística, científica etc de forma eficient.\n",
    "proporcionarà Arrays, eines matemàtiques, combinació amb altres softwares mes ràpids (C, fortran...)"
   ]
  },
  {
   "cell_type": "code",
   "execution_count": 1,
   "id": "12a31a63-c1d7-4b48-ac4e-efbd683034ac",
   "metadata": {},
   "outputs": [],
   "source": [
    "import numpy as np"
   ]
  },
  {
   "cell_type": "code",
   "execution_count": 2,
   "id": "09d9e731-af9c-4288-96ad-1723eba7d004",
   "metadata": {},
   "outputs": [],
   "source": [
    "#array de zeros\n",
    "a = np.zeros((2,4))#2 files i 4 columnes"
   ]
  },
  {
   "cell_type": "code",
   "execution_count": 3,
   "id": "ab94bffc-8a9a-4244-94c2-e78a72241119",
   "metadata": {},
   "outputs": [
    {
     "data": {
      "text/plain": [
       "array([[0., 0., 0., 0.],\n",
       "       [0., 0., 0., 0.]])"
      ]
     },
     "execution_count": 3,
     "metadata": {},
     "output_type": "execute_result"
    }
   ],
   "source": [
    "a"
   ]
  },
  {
   "cell_type": "markdown",
   "id": "46819d4b-bd9d-465c-a5a9-8a9a048d1ed5",
   "metadata": {},
   "source": [
    "aquest array te 2 **axis** doncs te longitud 2 i el segon de longitud 4\n",
    "un **rank** de 2\n",
    "un **shape** de (2,4)\n",
    "i un **size** de 8"
   ]
  },
  {
   "cell_type": "code",
   "execution_count": 4,
   "id": "74c1ae6b-7e63-45ee-b9a6-1a6e188c94d0",
   "metadata": {},
   "outputs": [
    {
     "data": {
      "text/plain": [
       "array([[[1., 1., 1., 1.],\n",
       "        [1., 1., 1., 1.],\n",
       "        [1., 1., 1., 1.]],\n",
       "\n",
       "       [[1., 1., 1., 1.],\n",
       "        [1., 1., 1., 1.],\n",
       "        [1., 1., 1., 1.]]])"
      ]
     },
     "execution_count": 4,
     "metadata": {},
     "output_type": "execute_result"
    }
   ],
   "source": [
    "#array de 1\n",
    "np.ones((2,3,4))"
   ]
  },
  {
   "cell_type": "code",
   "execution_count": 6,
   "id": "4784e3f0-7b41-49f8-943c-eb63877f018f",
   "metadata": {},
   "outputs": [
    {
     "data": {
      "text/plain": [
       "array([[[8, 8, 8, 8],\n",
       "        [8, 8, 8, 8],\n",
       "        [8, 8, 8, 8]],\n",
       "\n",
       "       [[8, 8, 8, 8],\n",
       "        [8, 8, 8, 8],\n",
       "        [8, 8, 8, 8]]])"
      ]
     },
     "execution_count": 6,
     "metadata": {},
     "output_type": "execute_result"
    }
   ],
   "source": [
    "#omplim el array amb un valor\n",
    "np.full((2,3,4),8)"
   ]
  },
  {
   "cell_type": "code",
   "execution_count": 7,
   "id": "6a0292fc-0de4-4d19-ba2f-3839c672a817",
   "metadata": {},
   "outputs": [
    {
     "data": {
      "text/plain": [
       "array([[[ 9.40435994e-312,  9.40398669e-312,  3.74168656e+233,\n",
       "          1.23769245e+224,  1.97937692e+161,  1.05948155e-153,\n",
       "          4.47435561e-067,  4.61101792e+252,  2.20892696e+161],\n",
       "        [ 7.08468655e+159,  9.45007090e-076,  1.15297798e-259,\n",
       "          6.01347002e-154,  1.05089607e-153,  2.42766135e-154,\n",
       "          2.93573416e+222,  3.36749394e+257,  1.02809935e+213],\n",
       "        [ 9.41072606e-095,  1.03478485e-013,  1.05161974e-153,\n",
       "          6.32300944e+233,  2.43905762e-154,  4.83245960e+276,\n",
       "          5.56206154e+180,  8.03408340e-095,  5.50495710e-095]],\n",
       "\n",
       "       [[ 6.01347002e-154,  1.16310967e+214,  5.50409548e+257,\n",
       "          5.03734573e+180,  6.01347002e-154,  8.59641098e+030,\n",
       "          3.88834045e+160,  5.36788256e+242,  2.42766135e-154],\n",
       "        [ 2.93573416e+222,  3.36749394e+257,  1.02809935e+213,\n",
       "          9.41072606e-095,  1.01159728e-153,  1.96567740e-062,\n",
       "          4.27255707e+180,  5.98147555e-154,  1.03063392e-113],\n",
       "        [ 1.05132387e-153,  6.01346953e-154,  8.94213159e+130,\n",
       "          9.11034336e+140,  6.01347002e-154,  8.59366590e-096,\n",
       "          1.95361030e-109,  2.23553290e+130, -3.36012462e-111]]])"
      ]
     },
     "execution_count": 7,
     "metadata": {},
     "output_type": "execute_result"
    }
   ],
   "source": [
    "#els valors es posen per defecte amb els valors que hi hagi al disc de memòria\n",
    "np.empty((2,3,9))"
   ]
  },
  {
   "cell_type": "code",
   "execution_count": 14,
   "id": "29b2d718-6de3-4580-a1b0-1cffe2feec61",
   "metadata": {},
   "outputs": [],
   "source": [
    "#incialitzar array utilitzant una llista de python\n",
    "b = np.array([[1,2,3],[4,5,6]])"
   ]
  },
  {
   "cell_type": "code",
   "execution_count": 15,
   "id": "581d9797-3c6e-433c-8875-3d69239f6eaa",
   "metadata": {},
   "outputs": [
    {
     "data": {
      "text/plain": [
       "array([[1, 2, 3],\n",
       "       [4, 5, 6]])"
      ]
     },
     "execution_count": 15,
     "metadata": {},
     "output_type": "execute_result"
    }
   ],
   "source": [
    "b"
   ]
  },
  {
   "cell_type": "code",
   "execution_count": 17,
   "id": "34c4400c-05ff-4ca9-afcf-9a8453dcd955",
   "metadata": {},
   "outputs": [
    {
     "data": {
      "text/plain": [
       "(2, 3)"
      ]
     },
     "execution_count": 17,
     "metadata": {},
     "output_type": "execute_result"
    }
   ],
   "source": [
    "b.shape"
   ]
  },
  {
   "cell_type": "code",
   "execution_count": 18,
   "id": "1e9e91dd-bc7b-4475-ae54-3ea9d1380fb7",
   "metadata": {},
   "outputs": [
    {
     "data": {
      "text/plain": [
       "2"
      ]
     },
     "execution_count": 18,
     "metadata": {},
     "output_type": "execute_result"
    }
   ],
   "source": [
    "b.ndim"
   ]
  },
  {
   "cell_type": "code",
   "execution_count": 19,
   "id": "4f0eaf57-b586-485f-88c6-c61e4b82d23d",
   "metadata": {},
   "outputs": [
    {
     "name": "stdout",
     "output_type": "stream",
     "text": [
      "[0.         0.66666667 1.33333333 2.         2.66666667 3.33333333\n",
      " 4.         4.66666667 5.33333333 6.        ]\n"
     ]
    }
   ],
   "source": [
    "#creació de l'array utilitzant una funció basada en rangs\n",
    "#(mínim, màxim, numer de elements)\n",
    "print(np.linspace(0,6,10))"
   ]
  },
  {
   "cell_type": "code",
   "execution_count": 20,
   "id": "8263afb3-2ac9-4973-ac3c-9e3db8b586c7",
   "metadata": {},
   "outputs": [
    {
     "data": {
      "text/plain": [
       "array([[[0.75803734, 0.92507111, 0.765491  , 0.09311133],\n",
       "        [0.0761894 , 0.71031726, 0.38194959, 0.19281494],\n",
       "        [0.80965415, 0.03487771, 0.65322284, 0.85170304]],\n",
       "\n",
       "       [[0.67735517, 0.91876355, 0.63096561, 0.45999276],\n",
       "        [0.67627918, 0.94711611, 0.53229688, 0.01355284],\n",
       "        [0.40443083, 0.61138251, 0.22929005, 0.08052038]]])"
      ]
     },
     "execution_count": 20,
     "metadata": {},
     "output_type": "execute_result"
    }
   ],
   "source": [
    "#valors aleatoris\n",
    "np.random.rand(2,3,4)"
   ]
  },
  {
   "cell_type": "code",
   "execution_count": 22,
   "id": "bbce05a8-8980-4fde-bd6e-2ed0962605d6",
   "metadata": {},
   "outputs": [
    {
     "data": {
      "text/plain": [
       "array([[-0.56573558, -2.13322583, -0.93662459,  0.12408527],\n",
       "       [ 0.75844406, -0.34577222, -0.08130197,  1.26044897]])"
      ]
     },
     "execution_count": 22,
     "metadata": {},
     "output_type": "execute_result"
    }
   ],
   "source": [
    "#inicialitzem aleatoris en base a distribucions per exemple la normal\n",
    "np.random.randn(2,4)"
   ]
  },
  {
   "cell_type": "markdown",
   "id": "e78d4960-82d8-43ba-a56a-697656a7df0d",
   "metadata": {},
   "source": [
    "## Acces als arrays\n"
   ]
  },
  {
   "cell_type": "code",
   "execution_count": 25,
   "id": "4056084d-ddc5-4fc6-9762-19822519ffe7",
   "metadata": {},
   "outputs": [
    {
     "name": "stdout",
     "output_type": "stream",
     "text": [
      "(6,)\n",
      "[ 1  3  5  7  9 11]\n"
     ]
    }
   ],
   "source": [
    "array_uni = np.array([1,3,5,7,9,11])\n",
    "print(array_uni.shape)\n",
    "print(array_uni)"
   ]
  },
  {
   "cell_type": "code",
   "execution_count": 26,
   "id": "7a04acd6-718f-4ff7-91fd-786d828d9865",
   "metadata": {},
   "outputs": [
    {
     "data": {
      "text/plain": [
       "9"
      ]
     },
     "execution_count": 26,
     "metadata": {},
     "output_type": "execute_result"
    }
   ],
   "source": [
    "#accedim als elements\n",
    "array_uni[4]"
   ]
  },
  {
   "cell_type": "code",
   "execution_count": 27,
   "id": "5249232a-57f2-47bd-987a-2a68281b5690",
   "metadata": {},
   "outputs": [
    {
     "data": {
      "text/plain": [
       "array([5, 7])"
      ]
     },
     "execution_count": 27,
     "metadata": {},
     "output_type": "execute_result"
    }
   ],
   "source": [
    "array_uni[2:4]"
   ]
  },
  {
   "cell_type": "code",
   "execution_count": 28,
   "id": "02419b91-a587-480c-b947-10d98f6954d6",
   "metadata": {},
   "outputs": [
    {
     "data": {
      "text/plain": [
       "array([1, 7])"
      ]
     },
     "execution_count": 28,
     "metadata": {},
     "output_type": "execute_result"
    }
   ],
   "source": [
    "#stripe (agafa del zero fins el final saltant de 3 en 3)\n",
    "array_uni[0::3]"
   ]
  },
  {
   "cell_type": "code",
   "execution_count": 30,
   "id": "ab9a98f9-c14b-4437-bb0d-666e4dd1091d",
   "metadata": {},
   "outputs": [
    {
     "name": "stdout",
     "output_type": "stream",
     "text": [
      "(2, 4)\n"
     ]
    },
    {
     "data": {
      "text/plain": [
       "array([[1, 2, 3, 4],\n",
       "       [5, 6, 7, 8]])"
      ]
     },
     "execution_count": 30,
     "metadata": {},
     "output_type": "execute_result"
    }
   ],
   "source": [
    "array_multi = np.array([[1,2,3,4],[5,6,7,8]])\n",
    "print(array_multi.shape)\n",
    "array_multi"
   ]
  },
  {
   "cell_type": "code",
   "execution_count": 32,
   "id": "086c9c57-747f-4a97-ab9d-c7099d0cab80",
   "metadata": {},
   "outputs": [
    {
     "data": {
      "text/plain": [
       "4"
      ]
     },
     "execution_count": 32,
     "metadata": {},
     "output_type": "execute_result"
    }
   ],
   "source": [
    "array_multi[0,3]"
   ]
  },
  {
   "cell_type": "code",
   "execution_count": 33,
   "id": "1bae4f77-6be1-4ea5-93ad-602630ce744c",
   "metadata": {},
   "outputs": [
    {
     "data": {
      "text/plain": [
       "array([5, 6, 7, 8])"
      ]
     },
     "execution_count": 33,
     "metadata": {},
     "output_type": "execute_result"
    }
   ],
   "source": [
    "#accedim a la segona fila del array\n",
    "array_multi[1,:]"
   ]
  },
  {
   "cell_type": "code",
   "execution_count": 36,
   "id": "99a732be-914e-4a52-a857-ca680b24450f",
   "metadata": {},
   "outputs": [
    {
     "data": {
      "text/plain": [
       "array([3, 7])"
      ]
     },
     "execution_count": 36,
     "metadata": {},
     "output_type": "execute_result"
    }
   ],
   "source": [
    "# accedim al tercer element de les dues primeres files (De la fila 0 a la 2, agafa el index 2)\n",
    "array_multi[0:2,2] "
   ]
  },
  {
   "cell_type": "markdown",
   "id": "9eaf1ef2-433d-477d-8a16-dc6f709b7a89",
   "metadata": {},
   "source": [
    "# modificació d'un array\n"
   ]
  },
  {
   "cell_type": "code",
   "execution_count": 39,
   "id": "f5321b07-3cb1-4efd-a64a-7f178bc2c7d8",
   "metadata": {},
   "outputs": [
    {
     "data": {
      "text/plain": [
       "array([ 0,  1,  2,  3,  4,  5,  6,  7,  8,  9, 10, 11, 12, 13, 14, 15, 16,\n",
       "       17, 18, 19, 20, 21, 22, 23, 24, 25, 26, 27])"
      ]
     },
     "execution_count": 39,
     "metadata": {},
     "output_type": "execute_result"
    }
   ],
   "source": [
    "# creació d'un array del 0 al 27\n",
    "\n",
    "array1 = np.arange(28)\n",
    "array1\n"
   ]
  },
  {
   "cell_type": "code",
   "execution_count": 41,
   "id": "46e328bf-325f-433e-a3a2-8cec50b379e9",
   "metadata": {},
   "outputs": [
    {
     "data": {
      "text/plain": [
       "array([[ 0,  1,  2,  3],\n",
       "       [ 4,  5,  6,  7],\n",
       "       [ 8,  9, 10, 11],\n",
       "       [12, 13, 14, 15],\n",
       "       [16, 17, 18, 19],\n",
       "       [20, 21, 22, 23],\n",
       "       [24, 25, 26, 27]])"
      ]
     },
     "execution_count": 41,
     "metadata": {},
     "output_type": "execute_result"
    }
   ],
   "source": [
    "# Cambiem les dimensions\n",
    "array1.shape = (7,4)\n",
    "array1"
   ]
  },
  {
   "cell_type": "code",
   "execution_count": 46,
   "id": "1b0b201c-8810-4caa-8697-e5b4e62690e0",
   "metadata": {},
   "outputs": [
    {
     "data": {
      "text/plain": [
       "array([[ 0,  1,  2,  3,  4,  5,  6],\n",
       "       [ 7,  8,  9, 10, 11, 12, 13],\n",
       "       [14, 15, 16, 17, 18, 19, 20],\n",
       "       [21, 22, 23, 24, 25, 26, 27]])"
      ]
     },
     "execution_count": 46,
     "metadata": {},
     "output_type": "execute_result"
    }
   ],
   "source": [
    "#Ara modifiquem l'array\n",
    "array2 = array1.reshape(4,7)\n",
    "array2\n"
   ]
  },
  {
   "cell_type": "code",
   "execution_count": 47,
   "id": "a2b266fa-5740-4ab0-8d09-4ec1f2345c53",
   "metadata": {},
   "outputs": [
    {
     "data": {
      "text/plain": [
       "array([[ 0,  1,  2,  3],\n",
       "       [ 4,  5,  6,  7],\n",
       "       [ 8,  9, 10, 11],\n",
       "       [12, 13, 14, 15],\n",
       "       [16, 17, 18, 19],\n",
       "       [20, 21, 22, 23],\n",
       "       [24, 25, 26, 27]])"
      ]
     },
     "execution_count": 47,
     "metadata": {},
     "output_type": "execute_result"
    }
   ],
   "source": [
    "array1"
   ]
  },
  {
   "cell_type": "code",
   "execution_count": 48,
   "id": "56014be0-078d-4c29-9ee6-46855561dd82",
   "metadata": {},
   "outputs": [],
   "source": [
    "array2[0,3] = 20"
   ]
  },
  {
   "cell_type": "code",
   "execution_count": 49,
   "id": "c57335bf-a4b1-4cf9-962c-12c1b10ef9df",
   "metadata": {},
   "outputs": [
    {
     "data": {
      "text/plain": [
       "array([[ 0,  1,  2, 20,  4,  5,  6],\n",
       "       [ 7,  8,  9, 10, 11, 12, 13],\n",
       "       [14, 15, 16, 17, 18, 19, 20],\n",
       "       [21, 22, 23, 24, 25, 26, 27]])"
      ]
     },
     "execution_count": 49,
     "metadata": {},
     "output_type": "execute_result"
    }
   ],
   "source": [
    "array2"
   ]
  },
  {
   "cell_type": "code",
   "execution_count": 50,
   "id": "2e48d862-781d-4404-b914-e3d4e6d55b23",
   "metadata": {},
   "outputs": [
    {
     "data": {
      "text/plain": [
       "array([[ 0,  1,  2, 20],\n",
       "       [ 4,  5,  6,  7],\n",
       "       [ 8,  9, 10, 11],\n",
       "       [12, 13, 14, 15],\n",
       "       [16, 17, 18, 19],\n",
       "       [20, 21, 22, 23],\n",
       "       [24, 25, 26, 27]])"
      ]
     },
     "execution_count": 50,
     "metadata": {},
     "output_type": "execute_result"
    }
   ],
   "source": [
    "array1"
   ]
  },
  {
   "cell_type": "code",
   "execution_count": 51,
   "id": "74ff0cab-3892-490d-8b5b-d1dcf57de0fb",
   "metadata": {},
   "outputs": [
    {
     "data": {
      "text/plain": [
       "array([ 0,  1,  2, 20,  4,  5,  6,  7,  8,  9, 10, 11, 12, 13, 14, 15, 16,\n",
       "       17, 18, 19, 20, 21, 22, 23, 24, 25, 26, 27])"
      ]
     },
     "execution_count": 51,
     "metadata": {},
     "output_type": "execute_result"
    }
   ],
   "source": [
    "# revelem el array original\n",
    "array1.ravel()"
   ]
  },
  {
   "cell_type": "code",
   "execution_count": 52,
   "id": "172ea52c-9872-48e9-ba30-0f3bdc629e89",
   "metadata": {},
   "outputs": [],
   "source": [
    "#Operacions amb arrays\n",
    "\n"
   ]
  },
  {
   "cell_type": "code",
   "execution_count": 53,
   "id": "b799c459-b233-4c85-8f74-7004539cb752",
   "metadata": {},
   "outputs": [],
   "source": [
    "array1 = np.arange(2,18,2)"
   ]
  },
  {
   "cell_type": "code",
   "execution_count": 54,
   "id": "7396283d-64da-4837-ba87-ec00b8e9f7c1",
   "metadata": {},
   "outputs": [],
   "source": [
    "array2 = np.arange(8)"
   ]
  },
  {
   "cell_type": "code",
   "execution_count": 55,
   "id": "a281a13d-66b3-4e2a-9f53-e478f2079118",
   "metadata": {},
   "outputs": [
    {
     "data": {
      "text/plain": [
       "array([ 2,  4,  6,  8, 10, 12, 14, 16])"
      ]
     },
     "execution_count": 55,
     "metadata": {},
     "output_type": "execute_result"
    }
   ],
   "source": [
    "array1"
   ]
  },
  {
   "cell_type": "code",
   "execution_count": 56,
   "id": "47bbd7b2-5402-4070-bb8b-434ea101eb08",
   "metadata": {},
   "outputs": [
    {
     "data": {
      "text/plain": [
       "array([0, 1, 2, 3, 4, 5, 6, 7])"
      ]
     },
     "execution_count": 56,
     "metadata": {},
     "output_type": "execute_result"
    }
   ],
   "source": [
    "array2"
   ]
  },
  {
   "cell_type": "code",
   "execution_count": 57,
   "id": "f54eedae-acec-4df4-a612-dfca8bae121f",
   "metadata": {},
   "outputs": [
    {
     "data": {
      "text/plain": [
       "array([ 2,  5,  8, 11, 14, 17, 20, 23])"
      ]
     },
     "execution_count": 57,
     "metadata": {},
     "output_type": "execute_result"
    }
   ],
   "source": [
    "#suma \n",
    "array1 + array2"
   ]
  },
  {
   "cell_type": "code",
   "execution_count": 58,
   "id": "48773ebd-618b-49ee-94e6-c241b2c31bdd",
   "metadata": {},
   "outputs": [
    {
     "data": {
      "text/plain": [
       "array([2, 3, 4, 5, 6, 7, 8, 9])"
      ]
     },
     "execution_count": 58,
     "metadata": {},
     "output_type": "execute_result"
    }
   ],
   "source": [
    "#resta\n",
    "array1 - array2"
   ]
  },
  {
   "cell_type": "code",
   "execution_count": 59,
   "id": "002865b5-2fc4-405d-a5e6-4bd12b5c6c5a",
   "metadata": {},
   "outputs": [],
   "source": [
    "#multiplicació "
   ]
  },
  {
   "cell_type": "code",
   "execution_count": 60,
   "id": "893af20a-c4a7-410c-9a68-0615cb02a4ec",
   "metadata": {},
   "outputs": [
    {
     "data": {
      "text/plain": [
       "array([  0,   4,  12,  24,  40,  60,  84, 112])"
      ]
     },
     "execution_count": 60,
     "metadata": {},
     "output_type": "execute_result"
    }
   ],
   "source": [
    "array1 * array2"
   ]
  },
  {
   "cell_type": "markdown",
   "id": "a863c765-b166-4336-bb05-18b012c59d2f",
   "metadata": {},
   "source": [
    "# BROADCASTING"
   ]
  },
  {
   "cell_type": "code",
   "execution_count": 61,
   "id": "b4c34446-3f63-4037-9d68-3fa6de33767d",
   "metadata": {},
   "outputs": [],
   "source": [
    "array1 = np.arange(5)"
   ]
  },
  {
   "cell_type": "code",
   "execution_count": 63,
   "id": "57a07127-a08f-4fbf-8553-bdf147f94167",
   "metadata": {},
   "outputs": [],
   "source": [
    "array2 = np.array([3])"
   ]
  },
  {
   "cell_type": "code",
   "execution_count": 64,
   "id": "ca8f5051-10b2-4557-ae31-a454740a878e",
   "metadata": {},
   "outputs": [
    {
     "data": {
      "text/plain": [
       "array([0, 1, 2, 3, 4])"
      ]
     },
     "execution_count": 64,
     "metadata": {},
     "output_type": "execute_result"
    }
   ],
   "source": [
    "array1"
   ]
  },
  {
   "cell_type": "code",
   "execution_count": 65,
   "id": "58160b3f-b66a-411e-abf8-bbea2812f3a8",
   "metadata": {},
   "outputs": [
    {
     "data": {
      "text/plain": [
       "array([3])"
      ]
     },
     "execution_count": 65,
     "metadata": {},
     "output_type": "execute_result"
    }
   ],
   "source": [
    "array2"
   ]
  },
  {
   "cell_type": "code",
   "execution_count": 67,
   "id": "a9447574-1e13-4b75-b770-bab667654117",
   "metadata": {},
   "outputs": [
    {
     "data": {
      "text/plain": [
       "array([3, 4, 5, 6, 7])"
      ]
     },
     "execution_count": 67,
     "metadata": {},
     "output_type": "execute_result"
    }
   ],
   "source": [
    "array1 + array2"
   ]
  },
  {
   "cell_type": "markdown",
   "id": "089b1332-01e3-478b-9233-28b9b8729cfc",
   "metadata": {},
   "source": [
    "# funcions estadistiques"
   ]
  },
  {
   "cell_type": "code",
   "execution_count": 68,
   "id": "277d3920-0831-4651-b7b6-5634291f26f6",
   "metadata": {},
   "outputs": [],
   "source": [
    "array1 = np.arange(1,20,2)"
   ]
  },
  {
   "cell_type": "code",
   "execution_count": 69,
   "id": "1133cee7-0a7d-4c31-bdb6-ead6c7278902",
   "metadata": {},
   "outputs": [
    {
     "data": {
      "text/plain": [
       "array([ 1,  3,  5,  7,  9, 11, 13, 15, 17, 19])"
      ]
     },
     "execution_count": 69,
     "metadata": {},
     "output_type": "execute_result"
    }
   ],
   "source": [
    "array1"
   ]
  },
  {
   "cell_type": "code",
   "execution_count": 70,
   "id": "ac0819ea-675b-4820-9503-650c28074eee",
   "metadata": {},
   "outputs": [],
   "source": [
    "#mitjana"
   ]
  },
  {
   "cell_type": "code",
   "execution_count": 71,
   "id": "96b7d432-000d-455b-9805-43e82d561545",
   "metadata": {},
   "outputs": [
    {
     "data": {
      "text/plain": [
       "10.0"
      ]
     },
     "execution_count": 71,
     "metadata": {},
     "output_type": "execute_result"
    }
   ],
   "source": [
    "array1.mean()"
   ]
  },
  {
   "cell_type": "code",
   "execution_count": 72,
   "id": "8f76487a-bf59-42e6-8bf5-31523943a749",
   "metadata": {},
   "outputs": [
    {
     "data": {
      "text/plain": [
       "100"
      ]
     },
     "execution_count": 72,
     "metadata": {},
     "output_type": "execute_result"
    }
   ],
   "source": [
    "#Suma de tots els elements\n",
    "array1.sum()"
   ]
  },
  {
   "cell_type": "code",
   "execution_count": 73,
   "id": "83964fd6-5157-4434-b032-52aeb1bdd460",
   "metadata": {},
   "outputs": [
    {
     "data": {
      "text/plain": [
       "['T',\n",
       " '__abs__',\n",
       " '__add__',\n",
       " '__and__',\n",
       " '__array__',\n",
       " '__array_finalize__',\n",
       " '__array_function__',\n",
       " '__array_interface__',\n",
       " '__array_prepare__',\n",
       " '__array_priority__',\n",
       " '__array_struct__',\n",
       " '__array_ufunc__',\n",
       " '__array_wrap__',\n",
       " '__bool__',\n",
       " '__class__',\n",
       " '__class_getitem__',\n",
       " '__complex__',\n",
       " '__contains__',\n",
       " '__copy__',\n",
       " '__deepcopy__',\n",
       " '__delattr__',\n",
       " '__delitem__',\n",
       " '__dir__',\n",
       " '__divmod__',\n",
       " '__dlpack__',\n",
       " '__dlpack_device__',\n",
       " '__doc__',\n",
       " '__eq__',\n",
       " '__float__',\n",
       " '__floordiv__',\n",
       " '__format__',\n",
       " '__ge__',\n",
       " '__getattribute__',\n",
       " '__getitem__',\n",
       " '__getstate__',\n",
       " '__gt__',\n",
       " '__hash__',\n",
       " '__iadd__',\n",
       " '__iand__',\n",
       " '__ifloordiv__',\n",
       " '__ilshift__',\n",
       " '__imatmul__',\n",
       " '__imod__',\n",
       " '__imul__',\n",
       " '__index__',\n",
       " '__init__',\n",
       " '__init_subclass__',\n",
       " '__int__',\n",
       " '__invert__',\n",
       " '__ior__',\n",
       " '__ipow__',\n",
       " '__irshift__',\n",
       " '__isub__',\n",
       " '__iter__',\n",
       " '__itruediv__',\n",
       " '__ixor__',\n",
       " '__le__',\n",
       " '__len__',\n",
       " '__lshift__',\n",
       " '__lt__',\n",
       " '__matmul__',\n",
       " '__mod__',\n",
       " '__mul__',\n",
       " '__ne__',\n",
       " '__neg__',\n",
       " '__new__',\n",
       " '__or__',\n",
       " '__pos__',\n",
       " '__pow__',\n",
       " '__radd__',\n",
       " '__rand__',\n",
       " '__rdivmod__',\n",
       " '__reduce__',\n",
       " '__reduce_ex__',\n",
       " '__repr__',\n",
       " '__rfloordiv__',\n",
       " '__rlshift__',\n",
       " '__rmatmul__',\n",
       " '__rmod__',\n",
       " '__rmul__',\n",
       " '__ror__',\n",
       " '__rpow__',\n",
       " '__rrshift__',\n",
       " '__rshift__',\n",
       " '__rsub__',\n",
       " '__rtruediv__',\n",
       " '__rxor__',\n",
       " '__setattr__',\n",
       " '__setitem__',\n",
       " '__setstate__',\n",
       " '__sizeof__',\n",
       " '__str__',\n",
       " '__sub__',\n",
       " '__subclasshook__',\n",
       " '__truediv__',\n",
       " '__xor__',\n",
       " 'all',\n",
       " 'any',\n",
       " 'argmax',\n",
       " 'argmin',\n",
       " 'argpartition',\n",
       " 'argsort',\n",
       " 'astype',\n",
       " 'base',\n",
       " 'byteswap',\n",
       " 'choose',\n",
       " 'clip',\n",
       " 'compress',\n",
       " 'conj',\n",
       " 'conjugate',\n",
       " 'copy',\n",
       " 'ctypes',\n",
       " 'cumprod',\n",
       " 'cumsum',\n",
       " 'data',\n",
       " 'diagonal',\n",
       " 'dot',\n",
       " 'dtype',\n",
       " 'dump',\n",
       " 'dumps',\n",
       " 'fill',\n",
       " 'flags',\n",
       " 'flat',\n",
       " 'flatten',\n",
       " 'getfield',\n",
       " 'imag',\n",
       " 'item',\n",
       " 'itemset',\n",
       " 'itemsize',\n",
       " 'max',\n",
       " 'mean',\n",
       " 'min',\n",
       " 'nbytes',\n",
       " 'ndim',\n",
       " 'newbyteorder',\n",
       " 'nonzero',\n",
       " 'partition',\n",
       " 'prod',\n",
       " 'ptp',\n",
       " 'put',\n",
       " 'ravel',\n",
       " 'real',\n",
       " 'repeat',\n",
       " 'reshape',\n",
       " 'resize',\n",
       " 'round',\n",
       " 'searchsorted',\n",
       " 'setfield',\n",
       " 'setflags',\n",
       " 'shape',\n",
       " 'size',\n",
       " 'sort',\n",
       " 'squeeze',\n",
       " 'std',\n",
       " 'strides',\n",
       " 'sum',\n",
       " 'swapaxes',\n",
       " 'take',\n",
       " 'tobytes',\n",
       " 'tofile',\n",
       " 'tolist',\n",
       " 'tostring',\n",
       " 'trace',\n",
       " 'transpose',\n",
       " 'var',\n",
       " 'view']"
      ]
     },
     "execution_count": 73,
     "metadata": {},
     "output_type": "execute_result"
    }
   ],
   "source": [
    "# opcions\n",
    "dir(array1)"
   ]
  },
  {
   "cell_type": "markdown",
   "id": "e3d9f720-d6c7-4b72-9340-8160e97805bf",
   "metadata": {},
   "source": [
    "# Universal functions"
   ]
  },
  {
   "cell_type": "code",
   "execution_count": 74,
   "id": "84f62fab-3c80-4f5f-b6f7-b79db05c4c16",
   "metadata": {},
   "outputs": [
    {
     "data": {
      "text/plain": [
       "array([  1,   9,  25,  49,  81, 121, 169, 225, 289, 361])"
      ]
     },
     "execution_count": 74,
     "metadata": {},
     "output_type": "execute_result"
    }
   ],
   "source": [
    "#cuadrado\n",
    "np.square(array1)"
   ]
  },
  {
   "cell_type": "code",
   "execution_count": 77,
   "id": "7be8448a-ee52-4d44-9fc8-63ebc6c40cef",
   "metadata": {},
   "outputs": [
    {
     "data": {
      "text/plain": [
       "array([1.        , 1.73205081, 2.23606798, 2.64575131, 3.        ,\n",
       "       3.31662479, 3.60555128, 3.87298335, 4.12310563, 4.35889894])"
      ]
     },
     "execution_count": 77,
     "metadata": {},
     "output_type": "execute_result"
    }
   ],
   "source": [
    "#arrel\n",
    "np.sqrt(array1)"
   ]
  },
  {
   "cell_type": "code",
   "execution_count": null,
   "id": "cccd0be3-7478-45d6-9f6b-da5176b7c27d",
   "metadata": {},
   "outputs": [],
   "source": []
  }
 ],
 "metadata": {
  "kernelspec": {
   "display_name": "Python 3 (ipykernel)",
   "language": "python",
   "name": "python3"
  },
  "language_info": {
   "codemirror_mode": {
    "name": "ipython",
    "version": 3
   },
   "file_extension": ".py",
   "mimetype": "text/x-python",
   "name": "python",
   "nbconvert_exporter": "python",
   "pygments_lexer": "ipython3",
   "version": "3.11.7"
  }
 },
 "nbformat": 4,
 "nbformat_minor": 5
}
