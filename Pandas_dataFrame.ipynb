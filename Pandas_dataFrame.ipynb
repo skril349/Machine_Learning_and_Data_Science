{
 "cells": [
  {
   "cell_type": "markdown",
   "id": "d21207ce-a8b5-4792-a6ef-84d0e24c21f6",
   "metadata": {},
   "source": [
    "# DataFrame"
   ]
  },
  {
   "cell_type": "code",
   "execution_count": 5,
   "id": "a2ffa4d5-5306-483a-8c78-6cd93bfd16ee",
   "metadata": {},
   "outputs": [],
   "source": [
    "import pandas as pd"
   ]
  },
  {
   "cell_type": "code",
   "execution_count": 6,
   "id": "d2b2bd09-464a-436f-b7be-d8df838c93a2",
   "metadata": {},
   "outputs": [],
   "source": [
    "\n",
    "personas =  {\n",
    "    \"peso\":pd.Series([84,90,56,64],[\"Santiago\",\"Pedro\",\"Ana\",\"Julia\"]),\n",
    "    \"altura\":pd.Series({\"Santiago\":187,\"Pedro\":178,\"Julia\":170,\"Ana\":165}),\n",
    "    \"hijos\":pd.Series([2,3],[\"Pedro\",\"Julia\"])}"
   ]
  },
  {
   "cell_type": "code",
   "execution_count": 9,
   "id": "7516088e-0b3f-4f78-8b2a-ae5a7cebc2bb",
   "metadata": {},
   "outputs": [
    {
     "data": {
      "text/html": [
       "<div>\n",
       "<style scoped>\n",
       "    .dataframe tbody tr th:only-of-type {\n",
       "        vertical-align: middle;\n",
       "    }\n",
       "\n",
       "    .dataframe tbody tr th {\n",
       "        vertical-align: top;\n",
       "    }\n",
       "\n",
       "    .dataframe thead th {\n",
       "        text-align: right;\n",
       "    }\n",
       "</style>\n",
       "<table border=\"1\" class=\"dataframe\">\n",
       "  <thead>\n",
       "    <tr style=\"text-align: right;\">\n",
       "      <th></th>\n",
       "      <th>peso</th>\n",
       "      <th>altura</th>\n",
       "      <th>hijos</th>\n",
       "    </tr>\n",
       "  </thead>\n",
       "  <tbody>\n",
       "    <tr>\n",
       "      <th>Ana</th>\n",
       "      <td>56</td>\n",
       "      <td>165</td>\n",
       "      <td>NaN</td>\n",
       "    </tr>\n",
       "    <tr>\n",
       "      <th>Julia</th>\n",
       "      <td>64</td>\n",
       "      <td>170</td>\n",
       "      <td>3.0</td>\n",
       "    </tr>\n",
       "    <tr>\n",
       "      <th>Pedro</th>\n",
       "      <td>90</td>\n",
       "      <td>178</td>\n",
       "      <td>2.0</td>\n",
       "    </tr>\n",
       "    <tr>\n",
       "      <th>Santiago</th>\n",
       "      <td>84</td>\n",
       "      <td>187</td>\n",
       "      <td>NaN</td>\n",
       "    </tr>\n",
       "  </tbody>\n",
       "</table>\n",
       "</div>"
      ],
      "text/plain": [
       "          peso  altura  hijos\n",
       "Ana         56     165    NaN\n",
       "Julia       64     170    3.0\n",
       "Pedro       90     178    2.0\n",
       "Santiago    84     187    NaN"
      ]
     },
     "execution_count": 9,
     "metadata": {},
     "output_type": "execute_result"
    }
   ],
   "source": [
    "df = pd.DataFrame(personas)\n",
    "df"
   ]
  },
  {
   "cell_type": "code",
   "execution_count": 12,
   "id": "a345f08c-d6a1-4021-a78c-68d694e811ee",
   "metadata": {},
   "outputs": [
    {
     "data": {
      "text/html": [
       "<div>\n",
       "<style scoped>\n",
       "    .dataframe tbody tr th:only-of-type {\n",
       "        vertical-align: middle;\n",
       "    }\n",
       "\n",
       "    .dataframe tbody tr th {\n",
       "        vertical-align: top;\n",
       "    }\n",
       "\n",
       "    .dataframe thead th {\n",
       "        text-align: right;\n",
       "    }\n",
       "</style>\n",
       "<table border=\"1\" class=\"dataframe\">\n",
       "  <thead>\n",
       "    <tr style=\"text-align: right;\">\n",
       "      <th></th>\n",
       "      <th>altura</th>\n",
       "      <th>peso</th>\n",
       "    </tr>\n",
       "  </thead>\n",
       "  <tbody>\n",
       "    <tr>\n",
       "      <th>Ana</th>\n",
       "      <td>165</td>\n",
       "      <td>56</td>\n",
       "    </tr>\n",
       "    <tr>\n",
       "      <th>Julia</th>\n",
       "      <td>170</td>\n",
       "      <td>64</td>\n",
       "    </tr>\n",
       "    <tr>\n",
       "      <th>Santiago</th>\n",
       "      <td>187</td>\n",
       "      <td>84</td>\n",
       "    </tr>\n",
       "  </tbody>\n",
       "</table>\n",
       "</div>"
      ],
      "text/plain": [
       "          altura  peso\n",
       "Ana          165    56\n",
       "Julia        170    64\n",
       "Santiago     187    84"
      ]
     },
     "execution_count": 12,
     "metadata": {},
     "output_type": "execute_result"
    }
   ],
   "source": [
    "# inicialització en format de series:\n",
    "personas =  {\n",
    "    \"peso\":pd.Series([84,90,56,64],[\"Santiago\",\"Pedro\",\"Ana\",\"Julia\"]),\n",
    "    \"altura\":pd.Series({\"Santiago\":187,\"Pedro\":178,\"Julia\":170,\"Ana\":165}),\n",
    "    \"hijos\":pd.Series([2,3],[\"Pedro\",\"Julia\"])}\n",
    "\n",
    "# primer prefiltre \n",
    "df = pd.DataFrame(personas,columns = [\"altura\",\"peso\"], index = [\"Ana\", \"Julia\", \"Santiago\"])\n",
    "df"
   ]
  },
  {
   "cell_type": "code",
   "execution_count": 13,
   "id": "3776b34e-95b4-4a8d-82e4-1a7626d5b939",
   "metadata": {},
   "outputs": [
    {
     "data": {
      "text/html": [
       "<div>\n",
       "<style scoped>\n",
       "    .dataframe tbody tr th:only-of-type {\n",
       "        vertical-align: middle;\n",
       "    }\n",
       "\n",
       "    .dataframe tbody tr th {\n",
       "        vertical-align: top;\n",
       "    }\n",
       "\n",
       "    .dataframe thead th {\n",
       "        text-align: right;\n",
       "    }\n",
       "</style>\n",
       "<table border=\"1\" class=\"dataframe\">\n",
       "  <thead>\n",
       "    <tr style=\"text-align: right;\">\n",
       "      <th></th>\n",
       "      <th>altura</th>\n",
       "      <th>hijos</th>\n",
       "      <th>peso</th>\n",
       "    </tr>\n",
       "  </thead>\n",
       "  <tbody>\n",
       "    <tr>\n",
       "      <th>Pedro</th>\n",
       "      <td>185</td>\n",
       "      <td>4</td>\n",
       "      <td>76</td>\n",
       "    </tr>\n",
       "    <tr>\n",
       "      <th>Ana</th>\n",
       "      <td>170</td>\n",
       "      <td>0</td>\n",
       "      <td>65</td>\n",
       "    </tr>\n",
       "    <tr>\n",
       "      <th>Juan</th>\n",
       "      <td>190</td>\n",
       "      <td>1</td>\n",
       "      <td>89</td>\n",
       "    </tr>\n",
       "  </tbody>\n",
       "</table>\n",
       "</div>"
      ],
      "text/plain": [
       "       altura  hijos  peso\n",
       "Pedro     185      4    76\n",
       "Ana       170      0    65\n",
       "Juan      190      1    89"
      ]
     },
     "execution_count": 13,
     "metadata": {},
     "output_type": "execute_result"
    }
   ],
   "source": [
    "# creacio del dataframe desde una llista\n",
    "\n",
    "valores = [\n",
    "    [185,4,76],\n",
    "    [170,0,65],\n",
    "    [190,1,89]\n",
    "]\n",
    "\n",
    "df = pd.DataFrame(valores,columns=[\"altura\",\"hijos\",\"peso\"],index=[\"Pedro\",\"Ana\",\"Juan\"])\n",
    "df"
   ]
  },
  {
   "cell_type": "markdown",
   "id": "66e86674-299e-4d85-8b4b-c48fa3f406c1",
   "metadata": {},
   "source": [
    "# Acces als elements d'un dataframe"
   ]
  },
  {
   "cell_type": "code",
   "execution_count": 16,
   "id": "0557ed13-4a88-43b2-a7de-109aa651e9e4",
   "metadata": {},
   "outputs": [
    {
     "data": {
      "text/html": [
       "<div>\n",
       "<style scoped>\n",
       "    .dataframe tbody tr th:only-of-type {\n",
       "        vertical-align: middle;\n",
       "    }\n",
       "\n",
       "    .dataframe tbody tr th {\n",
       "        vertical-align: top;\n",
       "    }\n",
       "\n",
       "    .dataframe thead th {\n",
       "        text-align: right;\n",
       "    }\n",
       "</style>\n",
       "<table border=\"1\" class=\"dataframe\">\n",
       "  <thead>\n",
       "    <tr style=\"text-align: right;\">\n",
       "      <th></th>\n",
       "      <th>peso</th>\n",
       "      <th>altura</th>\n",
       "      <th>hijos</th>\n",
       "    </tr>\n",
       "  </thead>\n",
       "  <tbody>\n",
       "    <tr>\n",
       "      <th>Ana</th>\n",
       "      <td>56</td>\n",
       "      <td>165</td>\n",
       "      <td>NaN</td>\n",
       "    </tr>\n",
       "    <tr>\n",
       "      <th>Julia</th>\n",
       "      <td>64</td>\n",
       "      <td>170</td>\n",
       "      <td>3.0</td>\n",
       "    </tr>\n",
       "    <tr>\n",
       "      <th>Pedro</th>\n",
       "      <td>90</td>\n",
       "      <td>178</td>\n",
       "      <td>2.0</td>\n",
       "    </tr>\n",
       "    <tr>\n",
       "      <th>Santiago</th>\n",
       "      <td>84</td>\n",
       "      <td>187</td>\n",
       "      <td>NaN</td>\n",
       "    </tr>\n",
       "  </tbody>\n",
       "</table>\n",
       "</div>"
      ],
      "text/plain": [
       "          peso  altura  hijos\n",
       "Ana         56     165    NaN\n",
       "Julia       64     170    3.0\n",
       "Pedro       90     178    2.0\n",
       "Santiago    84     187    NaN"
      ]
     },
     "execution_count": 16,
     "metadata": {},
     "output_type": "execute_result"
    }
   ],
   "source": [
    "personas =  {\n",
    "    \"peso\":pd.Series([84,90,56,64],[\"Santiago\",\"Pedro\",\"Ana\",\"Julia\"]),\n",
    "    \"altura\":pd.Series({\"Santiago\":187,\"Pedro\":178,\"Julia\":170,\"Ana\":165}),\n",
    "    \"hijos\":pd.Series([2,3],[\"Pedro\",\"Julia\"])}\n",
    "df = pd.DataFrame(personas)\n",
    "df"
   ]
  },
  {
   "cell_type": "code",
   "execution_count": 18,
   "id": "be8a4771-9462-4cdd-918f-53f062260891",
   "metadata": {},
   "outputs": [
    {
     "data": {
      "text/plain": [
       "Ana         56\n",
       "Julia       64\n",
       "Pedro       90\n",
       "Santiago    84\n",
       "Name: peso, dtype: int64"
      ]
     },
     "execution_count": 18,
     "metadata": {},
     "output_type": "execute_result"
    }
   ],
   "source": [
    "# Accedim a les columnes del dataFrame\n",
    "df[\"peso\"]"
   ]
  },
  {
   "cell_type": "code",
   "execution_count": 20,
   "id": "8072c4cd-24db-4854-8293-ea9d38d94f7b",
   "metadata": {},
   "outputs": [
    {
     "data": {
      "text/html": [
       "<div>\n",
       "<style scoped>\n",
       "    .dataframe tbody tr th:only-of-type {\n",
       "        vertical-align: middle;\n",
       "    }\n",
       "\n",
       "    .dataframe tbody tr th {\n",
       "        vertical-align: top;\n",
       "    }\n",
       "\n",
       "    .dataframe thead th {\n",
       "        text-align: right;\n",
       "    }\n",
       "</style>\n",
       "<table border=\"1\" class=\"dataframe\">\n",
       "  <thead>\n",
       "    <tr style=\"text-align: right;\">\n",
       "      <th></th>\n",
       "      <th>peso</th>\n",
       "      <th>altura</th>\n",
       "    </tr>\n",
       "  </thead>\n",
       "  <tbody>\n",
       "    <tr>\n",
       "      <th>Ana</th>\n",
       "      <td>56</td>\n",
       "      <td>165</td>\n",
       "    </tr>\n",
       "    <tr>\n",
       "      <th>Julia</th>\n",
       "      <td>64</td>\n",
       "      <td>170</td>\n",
       "    </tr>\n",
       "    <tr>\n",
       "      <th>Pedro</th>\n",
       "      <td>90</td>\n",
       "      <td>178</td>\n",
       "    </tr>\n",
       "    <tr>\n",
       "      <th>Santiago</th>\n",
       "      <td>84</td>\n",
       "      <td>187</td>\n",
       "    </tr>\n",
       "  </tbody>\n",
       "</table>\n",
       "</div>"
      ],
      "text/plain": [
       "          peso  altura\n",
       "Ana         56     165\n",
       "Julia       64     170\n",
       "Pedro       90     178\n",
       "Santiago    84     187"
      ]
     },
     "execution_count": 20,
     "metadata": {},
     "output_type": "execute_result"
    }
   ],
   "source": [
    "#multicolumna\n",
    "df[[\"peso\",\"altura\"]]"
   ]
  },
  {
   "cell_type": "code",
   "execution_count": 22,
   "id": "0145043e-6591-4157-99fb-565b6c5fbd13",
   "metadata": {},
   "outputs": [
    {
     "data": {
      "text/html": [
       "<div>\n",
       "<style scoped>\n",
       "    .dataframe tbody tr th:only-of-type {\n",
       "        vertical-align: middle;\n",
       "    }\n",
       "\n",
       "    .dataframe tbody tr th {\n",
       "        vertical-align: top;\n",
       "    }\n",
       "\n",
       "    .dataframe thead th {\n",
       "        text-align: right;\n",
       "    }\n",
       "</style>\n",
       "<table border=\"1\" class=\"dataframe\">\n",
       "  <thead>\n",
       "    <tr style=\"text-align: right;\">\n",
       "      <th></th>\n",
       "      <th>peso</th>\n",
       "      <th>altura</th>\n",
       "      <th>hijos</th>\n",
       "    </tr>\n",
       "  </thead>\n",
       "  <tbody>\n",
       "    <tr>\n",
       "      <th>Pedro</th>\n",
       "      <td>90</td>\n",
       "      <td>178</td>\n",
       "      <td>2.0</td>\n",
       "    </tr>\n",
       "    <tr>\n",
       "      <th>Santiago</th>\n",
       "      <td>84</td>\n",
       "      <td>187</td>\n",
       "      <td>NaN</td>\n",
       "    </tr>\n",
       "  </tbody>\n",
       "</table>\n",
       "</div>"
      ],
      "text/plain": [
       "          peso  altura  hijos\n",
       "Pedro       90     178    2.0\n",
       "Santiago    84     187    NaN"
      ]
     },
     "execution_count": 22,
     "metadata": {},
     "output_type": "execute_result"
    }
   ],
   "source": [
    "# es poden combinar amb expresions booleanas\n",
    "#(retorna del dataframe, els valors que dins del dataframe-columa peso, sigui > 80\n",
    "df[df[\"peso\"]>80]"
   ]
  },
  {
   "cell_type": "code",
   "execution_count": 27,
   "id": "101bb0c5-469f-4248-afdd-7a7b2791a720",
   "metadata": {},
   "outputs": [
    {
     "data": {
      "text/html": [
       "<div>\n",
       "<style scoped>\n",
       "    .dataframe tbody tr th:only-of-type {\n",
       "        vertical-align: middle;\n",
       "    }\n",
       "\n",
       "    .dataframe tbody tr th {\n",
       "        vertical-align: top;\n",
       "    }\n",
       "\n",
       "    .dataframe thead th {\n",
       "        text-align: right;\n",
       "    }\n",
       "</style>\n",
       "<table border=\"1\" class=\"dataframe\">\n",
       "  <thead>\n",
       "    <tr style=\"text-align: right;\">\n",
       "      <th></th>\n",
       "      <th>peso</th>\n",
       "      <th>altura</th>\n",
       "      <th>hijos</th>\n",
       "    </tr>\n",
       "  </thead>\n",
       "  <tbody>\n",
       "    <tr>\n",
       "      <th>Santiago</th>\n",
       "      <td>84</td>\n",
       "      <td>187</td>\n",
       "      <td>NaN</td>\n",
       "    </tr>\n",
       "  </tbody>\n",
       "</table>\n",
       "</div>"
      ],
      "text/plain": [
       "          peso  altura  hijos\n",
       "Santiago    84     187    NaN"
      ]
     },
     "execution_count": 27,
     "metadata": {},
     "output_type": "execute_result"
    }
   ],
   "source": [
    "df[(df[\"peso\"]>80) & (df[\"altura\"]>180)]"
   ]
  },
  {
   "cell_type": "markdown",
   "id": "96a3cde1-f6b1-4798-9d10-dcdd60b0f43a",
   "metadata": {},
   "source": [
    "# Accès per files"
   ]
  },
  {
   "cell_type": "code",
   "execution_count": 28,
   "id": "73f1c969-5d1a-44d0-a00f-b9c8fd5d96b5",
   "metadata": {},
   "outputs": [
    {
     "data": {
      "text/plain": [
       "peso       90.0\n",
       "altura    178.0\n",
       "hijos       2.0\n",
       "Name: Pedro, dtype: float64"
      ]
     },
     "execution_count": 28,
     "metadata": {},
     "output_type": "execute_result"
    }
   ],
   "source": [
    "df.loc[\"Pedro\"]"
   ]
  },
  {
   "cell_type": "code",
   "execution_count": 29,
   "id": "d6896f6b-5392-4741-89eb-b8f7e43cb51d",
   "metadata": {},
   "outputs": [
    {
     "data": {
      "text/plain": [
       "peso       90.0\n",
       "altura    178.0\n",
       "hijos       2.0\n",
       "Name: Pedro, dtype: float64"
      ]
     },
     "execution_count": 29,
     "metadata": {},
     "output_type": "execute_result"
    }
   ],
   "source": [
    "# accedim per posició\n",
    "df.iloc[2]"
   ]
  },
  {
   "cell_type": "code",
   "execution_count": 30,
   "id": "4de2ca49-e3e3-453b-a053-9017f52340e5",
   "metadata": {},
   "outputs": [
    {
     "data": {
      "text/plain": [
       "90"
      ]
     },
     "execution_count": 30,
     "metadata": {},
     "output_type": "execute_result"
    }
   ],
   "source": [
    "df[\"peso\"].loc[\"Pedro\"]\n"
   ]
  },
  {
   "cell_type": "markdown",
   "id": "c1dc1590-bae3-414b-8969-1a3bb08eff47",
   "metadata": {},
   "source": [
    "# Consultes avançades"
   ]
  },
  {
   "cell_type": "code",
   "execution_count": 31,
   "id": "8f44e577-7abc-455c-936e-335c00902ddd",
   "metadata": {},
   "outputs": [
    {
     "data": {
      "text/html": [
       "<div>\n",
       "<style scoped>\n",
       "    .dataframe tbody tr th:only-of-type {\n",
       "        vertical-align: middle;\n",
       "    }\n",
       "\n",
       "    .dataframe tbody tr th {\n",
       "        vertical-align: top;\n",
       "    }\n",
       "\n",
       "    .dataframe thead th {\n",
       "        text-align: right;\n",
       "    }\n",
       "</style>\n",
       "<table border=\"1\" class=\"dataframe\">\n",
       "  <thead>\n",
       "    <tr style=\"text-align: right;\">\n",
       "      <th></th>\n",
       "      <th>peso</th>\n",
       "      <th>altura</th>\n",
       "      <th>hijos</th>\n",
       "    </tr>\n",
       "  </thead>\n",
       "  <tbody>\n",
       "    <tr>\n",
       "      <th>Pedro</th>\n",
       "      <td>90</td>\n",
       "      <td>178</td>\n",
       "      <td>2.0</td>\n",
       "    </tr>\n",
       "    <tr>\n",
       "      <th>Santiago</th>\n",
       "      <td>84</td>\n",
       "      <td>187</td>\n",
       "      <td>NaN</td>\n",
       "    </tr>\n",
       "  </tbody>\n",
       "</table>\n",
       "</div>"
      ],
      "text/plain": [
       "          peso  altura  hijos\n",
       "Pedro       90     178    2.0\n",
       "Santiago    84     187    NaN"
      ]
     },
     "execution_count": 31,
     "metadata": {},
     "output_type": "execute_result"
    }
   ],
   "source": [
    "df.query(\"altura > 170 and peso > 70\")"
   ]
  },
  {
   "cell_type": "code",
   "execution_count": 33,
   "id": "7f8012ba-dedd-456b-ad5c-ce6d825b85fc",
   "metadata": {},
   "outputs": [],
   "source": [
    "# copia de dataframe\n",
    "personas =  {\n",
    "    \"peso\":pd.Series([84,90,56,64],[\"Santiago\",\"Pedro\",\"Ana\",\"Julia\"]),\n",
    "    \"altura\":pd.Series({\"Santiago\":187,\"Pedro\":178,\"Julia\":170,\"Ana\":165}),\n",
    "    \"hijos\":pd.Series([2,3],[\"Pedro\",\"Julia\"])}\n",
    "df = pd.DataFrame(personas)\n",
    "df_copy = df.copy()"
   ]
  },
  {
   "cell_type": "code",
   "execution_count": 34,
   "id": "e5fc84bc-ebd2-49fb-96cc-9e2319b33963",
   "metadata": {},
   "outputs": [
    {
     "data": {
      "text/html": [
       "<div>\n",
       "<style scoped>\n",
       "    .dataframe tbody tr th:only-of-type {\n",
       "        vertical-align: middle;\n",
       "    }\n",
       "\n",
       "    .dataframe tbody tr th {\n",
       "        vertical-align: top;\n",
       "    }\n",
       "\n",
       "    .dataframe thead th {\n",
       "        text-align: right;\n",
       "    }\n",
       "</style>\n",
       "<table border=\"1\" class=\"dataframe\">\n",
       "  <thead>\n",
       "    <tr style=\"text-align: right;\">\n",
       "      <th></th>\n",
       "      <th>peso</th>\n",
       "      <th>altura</th>\n",
       "      <th>hijos</th>\n",
       "      <th>cumpleaños</th>\n",
       "    </tr>\n",
       "  </thead>\n",
       "  <tbody>\n",
       "    <tr>\n",
       "      <th>Ana</th>\n",
       "      <td>56</td>\n",
       "      <td>165</td>\n",
       "      <td>NaN</td>\n",
       "      <td>1990</td>\n",
       "    </tr>\n",
       "    <tr>\n",
       "      <th>Julia</th>\n",
       "      <td>64</td>\n",
       "      <td>170</td>\n",
       "      <td>3.0</td>\n",
       "      <td>1987</td>\n",
       "    </tr>\n",
       "    <tr>\n",
       "      <th>Pedro</th>\n",
       "      <td>90</td>\n",
       "      <td>178</td>\n",
       "      <td>2.0</td>\n",
       "      <td>1980</td>\n",
       "    </tr>\n",
       "    <tr>\n",
       "      <th>Santiago</th>\n",
       "      <td>84</td>\n",
       "      <td>187</td>\n",
       "      <td>NaN</td>\n",
       "      <td>1998</td>\n",
       "    </tr>\n",
       "  </tbody>\n",
       "</table>\n",
       "</div>"
      ],
      "text/plain": [
       "          peso  altura  hijos  cumpleaños\n",
       "Ana         56     165    NaN        1990\n",
       "Julia       64     170    3.0        1987\n",
       "Pedro       90     178    2.0        1980\n",
       "Santiago    84     187    NaN        1998"
      ]
     },
     "execution_count": 34,
     "metadata": {},
     "output_type": "execute_result"
    }
   ],
   "source": [
    "#afegirem una nova columna\n",
    "df[\"cumpleaños\"] = [1990,1987,1980,1998]\n",
    "df"
   ]
  },
  {
   "cell_type": "code",
   "execution_count": 36,
   "id": "003c2d94-457f-4a30-9561-0c8303c18983",
   "metadata": {},
   "outputs": [
    {
     "data": {
      "text/html": [
       "<div>\n",
       "<style scoped>\n",
       "    .dataframe tbody tr th:only-of-type {\n",
       "        vertical-align: middle;\n",
       "    }\n",
       "\n",
       "    .dataframe tbody tr th {\n",
       "        vertical-align: top;\n",
       "    }\n",
       "\n",
       "    .dataframe thead th {\n",
       "        text-align: right;\n",
       "    }\n",
       "</style>\n",
       "<table border=\"1\" class=\"dataframe\">\n",
       "  <thead>\n",
       "    <tr style=\"text-align: right;\">\n",
       "      <th></th>\n",
       "      <th>peso</th>\n",
       "      <th>altura</th>\n",
       "      <th>hijos</th>\n",
       "      <th>cumpleaños</th>\n",
       "      <th>años</th>\n",
       "    </tr>\n",
       "  </thead>\n",
       "  <tbody>\n",
       "    <tr>\n",
       "      <th>Ana</th>\n",
       "      <td>56</td>\n",
       "      <td>165</td>\n",
       "      <td>NaN</td>\n",
       "      <td>1990</td>\n",
       "      <td>31</td>\n",
       "    </tr>\n",
       "    <tr>\n",
       "      <th>Julia</th>\n",
       "      <td>64</td>\n",
       "      <td>170</td>\n",
       "      <td>3.0</td>\n",
       "      <td>1987</td>\n",
       "      <td>34</td>\n",
       "    </tr>\n",
       "    <tr>\n",
       "      <th>Pedro</th>\n",
       "      <td>90</td>\n",
       "      <td>178</td>\n",
       "      <td>2.0</td>\n",
       "      <td>1980</td>\n",
       "      <td>41</td>\n",
       "    </tr>\n",
       "    <tr>\n",
       "      <th>Santiago</th>\n",
       "      <td>84</td>\n",
       "      <td>187</td>\n",
       "      <td>NaN</td>\n",
       "      <td>1998</td>\n",
       "      <td>23</td>\n",
       "    </tr>\n",
       "  </tbody>\n",
       "</table>\n",
       "</div>"
      ],
      "text/plain": [
       "          peso  altura  hijos  cumpleaños  años\n",
       "Ana         56     165    NaN        1990    31\n",
       "Julia       64     170    3.0        1987    34\n",
       "Pedro       90     178    2.0        1980    41\n",
       "Santiago    84     187    NaN        1998    23"
      ]
     },
     "execution_count": 36,
     "metadata": {},
     "output_type": "execute_result"
    }
   ],
   "source": [
    "# afegir columna acomulada o calculada\n",
    "df[\"años\"] = 2021-df[\"cumpleaños\"]\n",
    "df"
   ]
  },
  {
   "cell_type": "code",
   "execution_count": 37,
   "id": "a4e48a3d-0672-45ec-bcef-d7fd45f504de",
   "metadata": {},
   "outputs": [
    {
     "data": {
      "text/html": [
       "<div>\n",
       "<style scoped>\n",
       "    .dataframe tbody tr th:only-of-type {\n",
       "        vertical-align: middle;\n",
       "    }\n",
       "\n",
       "    .dataframe tbody tr th {\n",
       "        vertical-align: top;\n",
       "    }\n",
       "\n",
       "    .dataframe thead th {\n",
       "        text-align: right;\n",
       "    }\n",
       "</style>\n",
       "<table border=\"1\" class=\"dataframe\">\n",
       "  <thead>\n",
       "    <tr style=\"text-align: right;\">\n",
       "      <th></th>\n",
       "      <th>peso</th>\n",
       "      <th>altura</th>\n",
       "      <th>hijos</th>\n",
       "      <th>cumpleaños</th>\n",
       "      <th>años</th>\n",
       "      <th>mascotas</th>\n",
       "    </tr>\n",
       "  </thead>\n",
       "  <tbody>\n",
       "    <tr>\n",
       "      <th>Ana</th>\n",
       "      <td>56</td>\n",
       "      <td>165</td>\n",
       "      <td>NaN</td>\n",
       "      <td>1990</td>\n",
       "      <td>31</td>\n",
       "      <td>1</td>\n",
       "    </tr>\n",
       "    <tr>\n",
       "      <th>Julia</th>\n",
       "      <td>64</td>\n",
       "      <td>170</td>\n",
       "      <td>3.0</td>\n",
       "      <td>1987</td>\n",
       "      <td>34</td>\n",
       "      <td>3</td>\n",
       "    </tr>\n",
       "    <tr>\n",
       "      <th>Pedro</th>\n",
       "      <td>90</td>\n",
       "      <td>178</td>\n",
       "      <td>2.0</td>\n",
       "      <td>1980</td>\n",
       "      <td>41</td>\n",
       "      <td>0</td>\n",
       "    </tr>\n",
       "    <tr>\n",
       "      <th>Santiago</th>\n",
       "      <td>84</td>\n",
       "      <td>187</td>\n",
       "      <td>NaN</td>\n",
       "      <td>1998</td>\n",
       "      <td>23</td>\n",
       "      <td>0</td>\n",
       "    </tr>\n",
       "  </tbody>\n",
       "</table>\n",
       "</div>"
      ],
      "text/plain": [
       "          peso  altura  hijos  cumpleaños  años  mascotas\n",
       "Ana         56     165    NaN        1990    31         1\n",
       "Julia       64     170    3.0        1987    34         3\n",
       "Pedro       90     178    2.0        1980    41         0\n",
       "Santiago    84     187    NaN        1998    23         0"
      ]
     },
     "execution_count": 37,
     "metadata": {},
     "output_type": "execute_result"
    }
   ],
   "source": [
    "# afegir una nova columna creant un nou dataframe\n",
    "df_modificado = df.assign(mascotas = [1,3,0,0])\n",
    "df_modificado"
   ]
  },
  {
   "cell_type": "code",
   "execution_count": 38,
   "id": "251647da-2fcd-457c-84e1-efc64eafb3a7",
   "metadata": {},
   "outputs": [
    {
     "data": {
      "text/html": [
       "<div>\n",
       "<style scoped>\n",
       "    .dataframe tbody tr th:only-of-type {\n",
       "        vertical-align: middle;\n",
       "    }\n",
       "\n",
       "    .dataframe tbody tr th {\n",
       "        vertical-align: top;\n",
       "    }\n",
       "\n",
       "    .dataframe thead th {\n",
       "        text-align: right;\n",
       "    }\n",
       "</style>\n",
       "<table border=\"1\" class=\"dataframe\">\n",
       "  <thead>\n",
       "    <tr style=\"text-align: right;\">\n",
       "      <th></th>\n",
       "      <th>peso</th>\n",
       "      <th>altura</th>\n",
       "      <th>hijos</th>\n",
       "      <th>cumpleaños</th>\n",
       "      <th>años</th>\n",
       "    </tr>\n",
       "  </thead>\n",
       "  <tbody>\n",
       "    <tr>\n",
       "      <th>Ana</th>\n",
       "      <td>56</td>\n",
       "      <td>165</td>\n",
       "      <td>NaN</td>\n",
       "      <td>1990</td>\n",
       "      <td>31</td>\n",
       "    </tr>\n",
       "    <tr>\n",
       "      <th>Julia</th>\n",
       "      <td>64</td>\n",
       "      <td>170</td>\n",
       "      <td>3.0</td>\n",
       "      <td>1987</td>\n",
       "      <td>34</td>\n",
       "    </tr>\n",
       "    <tr>\n",
       "      <th>Pedro</th>\n",
       "      <td>90</td>\n",
       "      <td>178</td>\n",
       "      <td>2.0</td>\n",
       "      <td>1980</td>\n",
       "      <td>41</td>\n",
       "    </tr>\n",
       "    <tr>\n",
       "      <th>Santiago</th>\n",
       "      <td>84</td>\n",
       "      <td>187</td>\n",
       "      <td>NaN</td>\n",
       "      <td>1998</td>\n",
       "      <td>23</td>\n",
       "    </tr>\n",
       "  </tbody>\n",
       "</table>\n",
       "</div>"
      ],
      "text/plain": [
       "          peso  altura  hijos  cumpleaños  años\n",
       "Ana         56     165    NaN        1990    31\n",
       "Julia       64     170    3.0        1987    34\n",
       "Pedro       90     178    2.0        1980    41\n",
       "Santiago    84     187    NaN        1998    23"
      ]
     },
     "execution_count": 38,
     "metadata": {},
     "output_type": "execute_result"
    }
   ],
   "source": [
    "df"
   ]
  },
  {
   "cell_type": "code",
   "execution_count": 39,
   "id": "14e04223-3d02-4978-97ae-8431810c7288",
   "metadata": {},
   "outputs": [
    {
     "data": {
      "text/html": [
       "<div>\n",
       "<style scoped>\n",
       "    .dataframe tbody tr th:only-of-type {\n",
       "        vertical-align: middle;\n",
       "    }\n",
       "\n",
       "    .dataframe tbody tr th {\n",
       "        vertical-align: top;\n",
       "    }\n",
       "\n",
       "    .dataframe thead th {\n",
       "        text-align: right;\n",
       "    }\n",
       "</style>\n",
       "<table border=\"1\" class=\"dataframe\">\n",
       "  <thead>\n",
       "    <tr style=\"text-align: right;\">\n",
       "      <th></th>\n",
       "      <th>altura</th>\n",
       "      <th>hijos</th>\n",
       "      <th>cumpleaños</th>\n",
       "      <th>años</th>\n",
       "    </tr>\n",
       "  </thead>\n",
       "  <tbody>\n",
       "    <tr>\n",
       "      <th>Ana</th>\n",
       "      <td>165</td>\n",
       "      <td>NaN</td>\n",
       "      <td>1990</td>\n",
       "      <td>31</td>\n",
       "    </tr>\n",
       "    <tr>\n",
       "      <th>Julia</th>\n",
       "      <td>170</td>\n",
       "      <td>3.0</td>\n",
       "      <td>1987</td>\n",
       "      <td>34</td>\n",
       "    </tr>\n",
       "    <tr>\n",
       "      <th>Pedro</th>\n",
       "      <td>178</td>\n",
       "      <td>2.0</td>\n",
       "      <td>1980</td>\n",
       "      <td>41</td>\n",
       "    </tr>\n",
       "    <tr>\n",
       "      <th>Santiago</th>\n",
       "      <td>187</td>\n",
       "      <td>NaN</td>\n",
       "      <td>1998</td>\n",
       "      <td>23</td>\n",
       "    </tr>\n",
       "  </tbody>\n",
       "</table>\n",
       "</div>"
      ],
      "text/plain": [
       "          altura  hijos  cumpleaños  años\n",
       "Ana          165    NaN        1990    31\n",
       "Julia        170    3.0        1987    34\n",
       "Pedro        178    2.0        1980    41\n",
       "Santiago     187    NaN        1998    23"
      ]
     },
     "execution_count": 39,
     "metadata": {},
     "output_type": "execute_result"
    }
   ],
   "source": [
    "#Eliminar una columna\n",
    "del df[\"peso\"]\n",
    "df"
   ]
  },
  {
   "cell_type": "code",
   "execution_count": 40,
   "id": "83af44df-23e9-4727-b705-f2492455d075",
   "metadata": {},
   "outputs": [
    {
     "data": {
      "text/html": [
       "<div>\n",
       "<style scoped>\n",
       "    .dataframe tbody tr th:only-of-type {\n",
       "        vertical-align: middle;\n",
       "    }\n",
       "\n",
       "    .dataframe tbody tr th {\n",
       "        vertical-align: top;\n",
       "    }\n",
       "\n",
       "    .dataframe thead th {\n",
       "        text-align: right;\n",
       "    }\n",
       "</style>\n",
       "<table border=\"1\" class=\"dataframe\">\n",
       "  <thead>\n",
       "    <tr style=\"text-align: right;\">\n",
       "      <th></th>\n",
       "      <th>altura</th>\n",
       "      <th>cumpleaños</th>\n",
       "      <th>años</th>\n",
       "    </tr>\n",
       "  </thead>\n",
       "  <tbody>\n",
       "    <tr>\n",
       "      <th>Ana</th>\n",
       "      <td>165</td>\n",
       "      <td>1990</td>\n",
       "      <td>31</td>\n",
       "    </tr>\n",
       "    <tr>\n",
       "      <th>Julia</th>\n",
       "      <td>170</td>\n",
       "      <td>1987</td>\n",
       "      <td>34</td>\n",
       "    </tr>\n",
       "    <tr>\n",
       "      <th>Pedro</th>\n",
       "      <td>178</td>\n",
       "      <td>1980</td>\n",
       "      <td>41</td>\n",
       "    </tr>\n",
       "    <tr>\n",
       "      <th>Santiago</th>\n",
       "      <td>187</td>\n",
       "      <td>1998</td>\n",
       "      <td>23</td>\n",
       "    </tr>\n",
       "  </tbody>\n",
       "</table>\n",
       "</div>"
      ],
      "text/plain": [
       "          altura  cumpleaños  años\n",
       "Ana          165        1990    31\n",
       "Julia        170        1987    34\n",
       "Pedro        178        1980    41\n",
       "Santiago     187        1998    23"
      ]
     },
     "execution_count": 40,
     "metadata": {},
     "output_type": "execute_result"
    }
   ],
   "source": [
    "# Eliminar una columna existente devolviendo una copia del dataframe\n",
    "df_modificado = df.drop([\"hijos\"], axis = 1)\n",
    "df_modificado"
   ]
  },
  {
   "cell_type": "code",
   "execution_count": 41,
   "id": "8b366c2f-6fb0-4e2a-9fae-c2fa047271e6",
   "metadata": {},
   "outputs": [
    {
     "data": {
      "text/html": [
       "<div>\n",
       "<style scoped>\n",
       "    .dataframe tbody tr th:only-of-type {\n",
       "        vertical-align: middle;\n",
       "    }\n",
       "\n",
       "    .dataframe tbody tr th {\n",
       "        vertical-align: top;\n",
       "    }\n",
       "\n",
       "    .dataframe thead th {\n",
       "        text-align: right;\n",
       "    }\n",
       "</style>\n",
       "<table border=\"1\" class=\"dataframe\">\n",
       "  <thead>\n",
       "    <tr style=\"text-align: right;\">\n",
       "      <th></th>\n",
       "      <th>altura</th>\n",
       "      <th>hijos</th>\n",
       "      <th>cumpleaños</th>\n",
       "      <th>años</th>\n",
       "    </tr>\n",
       "  </thead>\n",
       "  <tbody>\n",
       "    <tr>\n",
       "      <th>Ana</th>\n",
       "      <td>165</td>\n",
       "      <td>NaN</td>\n",
       "      <td>1990</td>\n",
       "      <td>31</td>\n",
       "    </tr>\n",
       "    <tr>\n",
       "      <th>Julia</th>\n",
       "      <td>170</td>\n",
       "      <td>3.0</td>\n",
       "      <td>1987</td>\n",
       "      <td>34</td>\n",
       "    </tr>\n",
       "    <tr>\n",
       "      <th>Pedro</th>\n",
       "      <td>178</td>\n",
       "      <td>2.0</td>\n",
       "      <td>1980</td>\n",
       "      <td>41</td>\n",
       "    </tr>\n",
       "    <tr>\n",
       "      <th>Santiago</th>\n",
       "      <td>187</td>\n",
       "      <td>NaN</td>\n",
       "      <td>1998</td>\n",
       "      <td>23</td>\n",
       "    </tr>\n",
       "  </tbody>\n",
       "</table>\n",
       "</div>"
      ],
      "text/plain": [
       "          altura  hijos  cumpleaños  años\n",
       "Ana          165    NaN        1990    31\n",
       "Julia        170    3.0        1987    34\n",
       "Pedro        178    2.0        1980    41\n",
       "Santiago     187    NaN        1998    23"
      ]
     },
     "execution_count": 41,
     "metadata": {},
     "output_type": "execute_result"
    }
   ],
   "source": [
    "df"
   ]
  },
  {
   "cell_type": "markdown",
   "id": "7b054d7e-55eb-474b-bb07-fe42c52a04b3",
   "metadata": {},
   "source": [
    " # Evaluacio d'expressions sobre un dataframe"
   ]
  },
  {
   "cell_type": "code",
   "execution_count": 42,
   "id": "bb91d90d-2618-48f1-88a5-9086182b777e",
   "metadata": {},
   "outputs": [],
   "source": [
    "personas =  {\n",
    "    \"peso\":pd.Series([84,90,56,64],[\"Santiago\",\"Pedro\",\"Ana\",\"Julia\"]),\n",
    "    \"altura\":pd.Series({\"Santiago\":187,\"Pedro\":178,\"Julia\":170,\"Ana\":165}),\n",
    "    \"hijos\":pd.Series([2,3],[\"Pedro\",\"Julia\"])}\n",
    "df = pd.DataFrame(personas)"
   ]
  },
  {
   "cell_type": "code",
   "execution_count": 43,
   "id": "543ee7d3-d694-48a7-915f-250a9a00ad14",
   "metadata": {},
   "outputs": [
    {
     "data": {
      "text/plain": [
       "Ana         82.5\n",
       "Julia       85.0\n",
       "Pedro       89.0\n",
       "Santiago    93.5\n",
       "Name: altura, dtype: float64"
      ]
     },
     "execution_count": 43,
     "metadata": {},
     "output_type": "execute_result"
    }
   ],
   "source": [
    "# Evaluar una funció sobre una columna del dataframe\n",
    "df.eval(\"altura / 2\")"
   ]
  },
  {
   "cell_type": "code",
   "execution_count": 44,
   "id": "8a7a0c92-6804-4574-809a-7f3b12d568cd",
   "metadata": {},
   "outputs": [],
   "source": [
    "#assignar el valor a una nova columna\n",
    "df.eval(\"media_altura = altura / 2\", inplace = True)"
   ]
  },
  {
   "cell_type": "code",
   "execution_count": 45,
   "id": "c2993161-e306-4a2b-aa90-08fc9b6233c5",
   "metadata": {},
   "outputs": [
    {
     "data": {
      "text/html": [
       "<div>\n",
       "<style scoped>\n",
       "    .dataframe tbody tr th:only-of-type {\n",
       "        vertical-align: middle;\n",
       "    }\n",
       "\n",
       "    .dataframe tbody tr th {\n",
       "        vertical-align: top;\n",
       "    }\n",
       "\n",
       "    .dataframe thead th {\n",
       "        text-align: right;\n",
       "    }\n",
       "</style>\n",
       "<table border=\"1\" class=\"dataframe\">\n",
       "  <thead>\n",
       "    <tr style=\"text-align: right;\">\n",
       "      <th></th>\n",
       "      <th>peso</th>\n",
       "      <th>altura</th>\n",
       "      <th>hijos</th>\n",
       "      <th>media_altura</th>\n",
       "    </tr>\n",
       "  </thead>\n",
       "  <tbody>\n",
       "    <tr>\n",
       "      <th>Ana</th>\n",
       "      <td>56</td>\n",
       "      <td>165</td>\n",
       "      <td>NaN</td>\n",
       "      <td>82.5</td>\n",
       "    </tr>\n",
       "    <tr>\n",
       "      <th>Julia</th>\n",
       "      <td>64</td>\n",
       "      <td>170</td>\n",
       "      <td>3.0</td>\n",
       "      <td>85.0</td>\n",
       "    </tr>\n",
       "    <tr>\n",
       "      <th>Pedro</th>\n",
       "      <td>90</td>\n",
       "      <td>178</td>\n",
       "      <td>2.0</td>\n",
       "      <td>89.0</td>\n",
       "    </tr>\n",
       "    <tr>\n",
       "      <th>Santiago</th>\n",
       "      <td>84</td>\n",
       "      <td>187</td>\n",
       "      <td>NaN</td>\n",
       "      <td>93.5</td>\n",
       "    </tr>\n",
       "  </tbody>\n",
       "</table>\n",
       "</div>"
      ],
      "text/plain": [
       "          peso  altura  hijos  media_altura\n",
       "Ana         56     165    NaN          82.5\n",
       "Julia       64     170    3.0          85.0\n",
       "Pedro       90     178    2.0          89.0\n",
       "Santiago    84     187    NaN          93.5"
      ]
     },
     "execution_count": 45,
     "metadata": {},
     "output_type": "execute_result"
    }
   ],
   "source": [
    "df"
   ]
  },
  {
   "cell_type": "code",
   "execution_count": 48,
   "id": "4569d6f9-e1f7-478d-ae36-00ce2b3875fe",
   "metadata": {},
   "outputs": [
    {
     "data": {
      "text/plain": [
       "Ana         False\n",
       "Julia       False\n",
       "Pedro       False\n",
       "Santiago     True\n",
       "Name: altura, dtype: bool"
      ]
     },
     "execution_count": 48,
     "metadata": {},
     "output_type": "execute_result"
    }
   ],
   "source": [
    "# Evaluar una funció utilitzant una variable local\n",
    "max_altura = 180\n",
    "df.eval(\"altura > @max_altura\")"
   ]
  },
  {
   "cell_type": "code",
   "execution_count": 50,
   "id": "a64203f9-be03-4d91-9f56-d67cd7045ff4",
   "metadata": {},
   "outputs": [
    {
     "data": {
      "text/plain": [
       "Ana         58\n",
       "Julia       66\n",
       "Pedro       92\n",
       "Santiago    86\n",
       "Name: peso, dtype: int64"
      ]
     },
     "execution_count": 50,
     "metadata": {},
     "output_type": "execute_result"
    }
   ],
   "source": [
    "# aplicar una funció externa\n",
    "\n",
    "def func(x):\n",
    "    return x + 2\n",
    "\n",
    "df[\"peso\"].apply(func)"
   ]
  },
  {
   "cell_type": "markdown",
   "id": "4b15f88f-8448-4eb1-8c5d-0804d9d40d6d",
   "metadata": {},
   "source": [
    "# Guardar en disc\n"
   ]
  },
  {
   "cell_type": "code",
   "execution_count": 51,
   "id": "268f0c24-bbfb-4152-ba06-2c71d7601492",
   "metadata": {},
   "outputs": [],
   "source": [
    "personas =  {\n",
    "    \"peso\":pd.Series([84,90,56,64],[\"Santiago\",\"Pedro\",\"Ana\",\"Julia\"]),\n",
    "    \"altura\":pd.Series({\"Santiago\":187,\"Pedro\":178,\"Julia\":170,\"Ana\":165}),\n",
    "    \"hijos\":pd.Series([2,3],[\"Pedro\",\"Julia\"])}\n",
    "df = pd.DataFrame(personas)"
   ]
  },
  {
   "cell_type": "code",
   "execution_count": 52,
   "id": "9c38f82b-d6c8-4e52-ac72-024b4ef18e3c",
   "metadata": {},
   "outputs": [],
   "source": [
    "#guardar en csv, html, json\n",
    "df.to_csv(\"df_personas.csv\")\n",
    "df.to_html(\"df_personas.html\")\n",
    "df.to_json(\"df_personas.json\")\n"
   ]
  },
  {
   "cell_type": "code",
   "execution_count": 53,
   "id": "a107f933-8b74-4e60-91e4-10b34f601d47",
   "metadata": {},
   "outputs": [
    {
     "data": {
      "text/html": [
       "<div>\n",
       "<style scoped>\n",
       "    .dataframe tbody tr th:only-of-type {\n",
       "        vertical-align: middle;\n",
       "    }\n",
       "\n",
       "    .dataframe tbody tr th {\n",
       "        vertical-align: top;\n",
       "    }\n",
       "\n",
       "    .dataframe thead th {\n",
       "        text-align: right;\n",
       "    }\n",
       "</style>\n",
       "<table border=\"1\" class=\"dataframe\">\n",
       "  <thead>\n",
       "    <tr style=\"text-align: right;\">\n",
       "      <th></th>\n",
       "      <th>Unnamed: 0</th>\n",
       "      <th>peso</th>\n",
       "      <th>altura</th>\n",
       "      <th>hijos</th>\n",
       "    </tr>\n",
       "  </thead>\n",
       "  <tbody>\n",
       "    <tr>\n",
       "      <th>0</th>\n",
       "      <td>Ana</td>\n",
       "      <td>56</td>\n",
       "      <td>165</td>\n",
       "      <td>NaN</td>\n",
       "    </tr>\n",
       "    <tr>\n",
       "      <th>1</th>\n",
       "      <td>Julia</td>\n",
       "      <td>64</td>\n",
       "      <td>170</td>\n",
       "      <td>3.0</td>\n",
       "    </tr>\n",
       "    <tr>\n",
       "      <th>2</th>\n",
       "      <td>Pedro</td>\n",
       "      <td>90</td>\n",
       "      <td>178</td>\n",
       "      <td>2.0</td>\n",
       "    </tr>\n",
       "    <tr>\n",
       "      <th>3</th>\n",
       "      <td>Santiago</td>\n",
       "      <td>84</td>\n",
       "      <td>187</td>\n",
       "      <td>NaN</td>\n",
       "    </tr>\n",
       "  </tbody>\n",
       "</table>\n",
       "</div>"
      ],
      "text/plain": [
       "  Unnamed: 0  peso  altura  hijos\n",
       "0        Ana    56     165    NaN\n",
       "1      Julia    64     170    3.0\n",
       "2      Pedro    90     178    2.0\n",
       "3   Santiago    84     187    NaN"
      ]
     },
     "execution_count": 53,
     "metadata": {},
     "output_type": "execute_result"
    }
   ],
   "source": [
    "# carregar el dataframe \n",
    "df2 = pd.read_csv(\"df_personas.csv\")\n",
    "df2"
   ]
  },
  {
   "cell_type": "code",
   "execution_count": 54,
   "id": "593731aa-1d7d-4a2b-98c5-e840d4d9c78a",
   "metadata": {},
   "outputs": [
    {
     "data": {
      "text/html": [
       "<div>\n",
       "<style scoped>\n",
       "    .dataframe tbody tr th:only-of-type {\n",
       "        vertical-align: middle;\n",
       "    }\n",
       "\n",
       "    .dataframe tbody tr th {\n",
       "        vertical-align: top;\n",
       "    }\n",
       "\n",
       "    .dataframe thead th {\n",
       "        text-align: right;\n",
       "    }\n",
       "</style>\n",
       "<table border=\"1\" class=\"dataframe\">\n",
       "  <thead>\n",
       "    <tr style=\"text-align: right;\">\n",
       "      <th></th>\n",
       "      <th>peso</th>\n",
       "      <th>altura</th>\n",
       "      <th>hijos</th>\n",
       "    </tr>\n",
       "  </thead>\n",
       "  <tbody>\n",
       "    <tr>\n",
       "      <th>Ana</th>\n",
       "      <td>56</td>\n",
       "      <td>165</td>\n",
       "      <td>NaN</td>\n",
       "    </tr>\n",
       "    <tr>\n",
       "      <th>Julia</th>\n",
       "      <td>64</td>\n",
       "      <td>170</td>\n",
       "      <td>3.0</td>\n",
       "    </tr>\n",
       "    <tr>\n",
       "      <th>Pedro</th>\n",
       "      <td>90</td>\n",
       "      <td>178</td>\n",
       "      <td>2.0</td>\n",
       "    </tr>\n",
       "    <tr>\n",
       "      <th>Santiago</th>\n",
       "      <td>84</td>\n",
       "      <td>187</td>\n",
       "      <td>NaN</td>\n",
       "    </tr>\n",
       "  </tbody>\n",
       "</table>\n",
       "</div>"
      ],
      "text/plain": [
       "          peso  altura  hijos\n",
       "Ana         56     165    NaN\n",
       "Julia       64     170    3.0\n",
       "Pedro       90     178    2.0\n",
       "Santiago    84     187    NaN"
      ]
     },
     "execution_count": 54,
     "metadata": {},
     "output_type": "execute_result"
    }
   ],
   "source": [
    "#assignant correctament els index\n",
    "df2 = pd.read_csv(\"df_personas.csv\", index_col = 0)\n",
    "df2"
   ]
  },
  {
   "cell_type": "code",
   "execution_count": null,
   "id": "745b59f1-5823-4647-96f1-03e5f73a4a12",
   "metadata": {},
   "outputs": [],
   "source": []
  }
 ],
 "metadata": {
  "kernelspec": {
   "display_name": "Python 3 (ipykernel)",
   "language": "python",
   "name": "python3"
  },
  "language_info": {
   "codemirror_mode": {
    "name": "ipython",
    "version": 3
   },
   "file_extension": ".py",
   "mimetype": "text/x-python",
   "name": "python",
   "nbconvert_exporter": "python",
   "pygments_lexer": "ipython3",
   "version": "3.11.7"
  }
 },
 "nbformat": 4,
 "nbformat_minor": 5
}
